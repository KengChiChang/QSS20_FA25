{
 "cells": [
  {
   "cell_type": "markdown",
   "metadata": {},
   "source": [
    "## 0. Load imports "
   ]
  },
  {
   "cell_type": "code",
   "execution_count": 2,
   "metadata": {},
   "outputs": [],
   "source": [
    "## imports\n",
    "import pandas as pd\n",
    "import numpy as np\n",
    "\n",
    "\n",
    "## print multiple things from same cell\n",
    "from IPython.core.interactiveshell import InteractiveShell\n",
    "InteractiveShell.ast_node_interactivity = \"all\""
   ]
  },
  {
   "cell_type": "markdown",
   "metadata": {},
   "source": [
    "## 0. Load data"
   ]
  },
  {
   "cell_type": "code",
   "execution_count": 3,
   "metadata": {},
   "outputs": [
    {
     "data": {
      "text/html": [
       "<div>\n",
       "<style scoped>\n",
       "    .dataframe tbody tr th:only-of-type {\n",
       "        vertical-align: middle;\n",
       "    }\n",
       "\n",
       "    .dataframe tbody tr th {\n",
       "        vertical-align: top;\n",
       "    }\n",
       "\n",
       "    .dataframe thead th {\n",
       "        text-align: right;\n",
       "    }\n",
       "</style>\n",
       "<table border=\"1\" class=\"dataframe\">\n",
       "  <thead>\n",
       "    <tr style=\"text-align: right;\">\n",
       "      <th></th>\n",
       "      <th>X</th>\n",
       "      <th>Y</th>\n",
       "      <th>CCN</th>\n",
       "      <th>REPORT_DAT</th>\n",
       "      <th>SHIFT</th>\n",
       "      <th>METHOD</th>\n",
       "      <th>OFFENSE</th>\n",
       "      <th>BLOCK</th>\n",
       "      <th>XBLOCK</th>\n",
       "      <th>YBLOCK</th>\n",
       "      <th>...</th>\n",
       "      <th>BLOCK_GROUP</th>\n",
       "      <th>CENSUS_TRACT</th>\n",
       "      <th>VOTING_PRECINCT</th>\n",
       "      <th>LATITUDE</th>\n",
       "      <th>LONGITUDE</th>\n",
       "      <th>BID</th>\n",
       "      <th>START_DATE</th>\n",
       "      <th>END_DATE</th>\n",
       "      <th>OBJECTID</th>\n",
       "      <th>OCTO_RECORD_ID</th>\n",
       "    </tr>\n",
       "  </thead>\n",
       "  <tbody>\n",
       "    <tr>\n",
       "      <th>0</th>\n",
       "      <td>402411.0</td>\n",
       "      <td>131808.0</td>\n",
       "      <td>10147537</td>\n",
       "      <td>2020/12/21 05:00:00+00</td>\n",
       "      <td>MIDNIGHT</td>\n",
       "      <td>OTHERS</td>\n",
       "      <td>HOMICIDE</td>\n",
       "      <td>2300 - 2499 BLOCK OF HARTFORD STREET SE</td>\n",
       "      <td>402411.0</td>\n",
       "      <td>131808.0</td>\n",
       "      <td>...</td>\n",
       "      <td>007408 2</td>\n",
       "      <td>7408.0</td>\n",
       "      <td>Precinct 115</td>\n",
       "      <td>38.854078</td>\n",
       "      <td>-76.972223</td>\n",
       "      <td>NaN</td>\n",
       "      <td>2010/10/10 02:00:00+00</td>\n",
       "      <td>NaN</td>\n",
       "      <td>802282718</td>\n",
       "      <td>NaN</td>\n",
       "    </tr>\n",
       "    <tr>\n",
       "      <th>1</th>\n",
       "      <td>397330.0</td>\n",
       "      <td>138223.0</td>\n",
       "      <td>16641</td>\n",
       "      <td>2020/01/28 05:14:39+00</td>\n",
       "      <td>MIDNIGHT</td>\n",
       "      <td>OTHERS</td>\n",
       "      <td>THEFT F/AUTO</td>\n",
       "      <td>1300 - 1399 BLOCK OF CORCORAN STREET NW</td>\n",
       "      <td>397330.0</td>\n",
       "      <td>138223.0</td>\n",
       "      <td>...</td>\n",
       "      <td>005001 2</td>\n",
       "      <td>5001.0</td>\n",
       "      <td>Precinct 16</td>\n",
       "      <td>38.911866</td>\n",
       "      <td>-77.030785</td>\n",
       "      <td>NaN</td>\n",
       "      <td>2020/01/28 05:14:58+00</td>\n",
       "      <td>2020/01/28 05:15:02+00</td>\n",
       "      <td>802282726</td>\n",
       "      <td>NaN</td>\n",
       "    </tr>\n",
       "    <tr>\n",
       "      <th>2</th>\n",
       "      <td>399848.0</td>\n",
       "      <td>128205.0</td>\n",
       "      <td>18048023</td>\n",
       "      <td>2020/10/21 04:00:00+00</td>\n",
       "      <td>MIDNIGHT</td>\n",
       "      <td>OTHERS</td>\n",
       "      <td>HOMICIDE</td>\n",
       "      <td>4600 - 4799 BLOCK OF SOUTH CAPITOL STREET</td>\n",
       "      <td>399848.0</td>\n",
       "      <td>128205.0</td>\n",
       "      <td>...</td>\n",
       "      <td>009811 1</td>\n",
       "      <td>9811.0</td>\n",
       "      <td>Precinct 125</td>\n",
       "      <td>38.821624</td>\n",
       "      <td>-77.001750</td>\n",
       "      <td>NaN</td>\n",
       "      <td>2018/03/26 08:40:06+00</td>\n",
       "      <td>2018/03/26 10:04:44+00</td>\n",
       "      <td>802285348</td>\n",
       "      <td>NaN</td>\n",
       "    </tr>\n",
       "    <tr>\n",
       "      <th>3</th>\n",
       "      <td>396525.0</td>\n",
       "      <td>140299.0</td>\n",
       "      <td>20119313</td>\n",
       "      <td>2020/08/21 11:12:56+00</td>\n",
       "      <td>DAY</td>\n",
       "      <td>OTHERS</td>\n",
       "      <td>THEFT/OTHER</td>\n",
       "      <td>1700 - 1799 BLOCK OF KILBOURNE PLACE NW</td>\n",
       "      <td>396525.0</td>\n",
       "      <td>140299.0</td>\n",
       "      <td>...</td>\n",
       "      <td>002702 3</td>\n",
       "      <td>2702.0</td>\n",
       "      <td>Precinct 39</td>\n",
       "      <td>38.930565</td>\n",
       "      <td>-77.040078</td>\n",
       "      <td>NaN</td>\n",
       "      <td>2020/08/07 09:40:16+00</td>\n",
       "      <td>2020/08/21 10:00:05+00</td>\n",
       "      <td>802287553</td>\n",
       "      <td>NaN</td>\n",
       "    </tr>\n",
       "    <tr>\n",
       "      <th>4</th>\n",
       "      <td>401104.0</td>\n",
       "      <td>138229.0</td>\n",
       "      <td>20120295</td>\n",
       "      <td>2020/08/23 08:15:49+00</td>\n",
       "      <td>MIDNIGHT</td>\n",
       "      <td>OTHERS</td>\n",
       "      <td>MOTOR VEHICLE THEFT</td>\n",
       "      <td>1800 - 1899 BLOCK OF CORCORAN STREET NE</td>\n",
       "      <td>401104.0</td>\n",
       "      <td>138229.0</td>\n",
       "      <td>...</td>\n",
       "      <td>008803 1</td>\n",
       "      <td>8803.0</td>\n",
       "      <td>Precinct 76</td>\n",
       "      <td>38.911924</td>\n",
       "      <td>-76.987271</td>\n",
       "      <td>NaN</td>\n",
       "      <td>2020/08/23 06:00:25+00</td>\n",
       "      <td>2020/08/23 06:43:53+00</td>\n",
       "      <td>802287554</td>\n",
       "      <td>NaN</td>\n",
       "    </tr>\n",
       "  </tbody>\n",
       "</table>\n",
       "<p>5 rows × 25 columns</p>\n",
       "</div>"
      ],
      "text/plain": [
       "          X         Y       CCN              REPORT_DAT     SHIFT  METHOD  \\\n",
       "0  402411.0  131808.0  10147537  2020/12/21 05:00:00+00  MIDNIGHT  OTHERS   \n",
       "1  397330.0  138223.0     16641  2020/01/28 05:14:39+00  MIDNIGHT  OTHERS   \n",
       "2  399848.0  128205.0  18048023  2020/10/21 04:00:00+00  MIDNIGHT  OTHERS   \n",
       "3  396525.0  140299.0  20119313  2020/08/21 11:12:56+00       DAY  OTHERS   \n",
       "4  401104.0  138229.0  20120295  2020/08/23 08:15:49+00  MIDNIGHT  OTHERS   \n",
       "\n",
       "               OFFENSE                                      BLOCK    XBLOCK  \\\n",
       "0             HOMICIDE    2300 - 2499 BLOCK OF HARTFORD STREET SE  402411.0   \n",
       "1         THEFT F/AUTO    1300 - 1399 BLOCK OF CORCORAN STREET NW  397330.0   \n",
       "2             HOMICIDE  4600 - 4799 BLOCK OF SOUTH CAPITOL STREET  399848.0   \n",
       "3          THEFT/OTHER    1700 - 1799 BLOCK OF KILBOURNE PLACE NW  396525.0   \n",
       "4  MOTOR VEHICLE THEFT    1800 - 1899 BLOCK OF CORCORAN STREET NE  401104.0   \n",
       "\n",
       "     YBLOCK  ...  BLOCK_GROUP CENSUS_TRACT  VOTING_PRECINCT   LATITUDE  \\\n",
       "0  131808.0  ...     007408 2       7408.0     Precinct 115  38.854078   \n",
       "1  138223.0  ...     005001 2       5001.0      Precinct 16  38.911866   \n",
       "2  128205.0  ...     009811 1       9811.0     Precinct 125  38.821624   \n",
       "3  140299.0  ...     002702 3       2702.0      Precinct 39  38.930565   \n",
       "4  138229.0  ...     008803 1       8803.0      Precinct 76  38.911924   \n",
       "\n",
       "   LONGITUDE  BID              START_DATE                END_DATE   OBJECTID  \\\n",
       "0 -76.972223  NaN  2010/10/10 02:00:00+00                     NaN  802282718   \n",
       "1 -77.030785  NaN  2020/01/28 05:14:58+00  2020/01/28 05:15:02+00  802282726   \n",
       "2 -77.001750  NaN  2018/03/26 08:40:06+00  2018/03/26 10:04:44+00  802285348   \n",
       "3 -77.040078  NaN  2020/08/07 09:40:16+00  2020/08/21 10:00:05+00  802287553   \n",
       "4 -76.987271  NaN  2020/08/23 06:00:25+00  2020/08/23 06:43:53+00  802287554   \n",
       "\n",
       "   OCTO_RECORD_ID  \n",
       "0             NaN  \n",
       "1             NaN  \n",
       "2             NaN  \n",
       "3             NaN  \n",
       "4             NaN  \n",
       "\n",
       "[5 rows x 25 columns]"
      ]
     },
     "execution_count": 3,
     "metadata": {},
     "output_type": "execute_result"
    },
    {
     "data": {
      "text/plain": [
       "(27931, 25)"
      ]
     },
     "execution_count": 3,
     "metadata": {},
     "output_type": "execute_result"
    },
    {
     "name": "stdout",
     "output_type": "stream",
     "text": [
      "<class 'pandas.core.frame.DataFrame'>\n",
      "RangeIndex: 27931 entries, 0 to 27930\n",
      "Data columns (total 25 columns):\n",
      " #   Column                Non-Null Count  Dtype  \n",
      "---  ------                --------------  -----  \n",
      " 0   X                     27931 non-null  float64\n",
      " 1   Y                     27931 non-null  float64\n",
      " 2   CCN                   27931 non-null  int64  \n",
      " 3   REPORT_DAT            27931 non-null  object \n",
      " 4   SHIFT                 27931 non-null  object \n",
      " 5   METHOD                27931 non-null  object \n",
      " 6   OFFENSE               27931 non-null  object \n",
      " 7   BLOCK                 27931 non-null  object \n",
      " 8   XBLOCK                27931 non-null  float64\n",
      " 9   YBLOCK                27931 non-null  float64\n",
      " 10  WARD                  27931 non-null  int64  \n",
      " 11  ANC                   27931 non-null  object \n",
      " 12  DISTRICT              27902 non-null  float64\n",
      " 13  PSA                   27896 non-null  float64\n",
      " 14  NEIGHBORHOOD_CLUSTER  27931 non-null  object \n",
      " 15  BLOCK_GROUP           27930 non-null  object \n",
      " 16  CENSUS_TRACT          27930 non-null  float64\n",
      " 17  VOTING_PRECINCT       27931 non-null  object \n",
      " 18  LATITUDE              27931 non-null  float64\n",
      " 19  LONGITUDE             27931 non-null  float64\n",
      " 20  BID                   4658 non-null   object \n",
      " 21  START_DATE            27931 non-null  object \n",
      " 22  END_DATE              24850 non-null  object \n",
      " 23  OBJECTID              27931 non-null  int64  \n",
      " 24  OCTO_RECORD_ID        0 non-null      float64\n",
      "dtypes: float64(10), int64(3), object(12)\n",
      "memory usage: 5.3+ MB\n"
     ]
    }
   ],
   "source": [
    "## load data on 2020 crimes in DC\n",
    "df = dc_crim_2020 = pd.read_csv(\"https://opendata.arcgis.com/datasets/f516e0dd7b614b088ad781b0c4002331_2.csv\")\n",
    "dc_crim_2020.head()\n",
    "dc_crim_2020.shape\n",
    "dc_crim_2020.info()\n"
   ]
  },
  {
   "cell_type": "code",
   "execution_count": 4,
   "metadata": {},
   "outputs": [],
   "source": [
    "a = [1,2,3]\n",
    "b = [\"a\",\"b\",\"c\"]"
   ]
  },
  {
   "cell_type": "code",
   "execution_count": 5,
   "metadata": {
    "jupyter": {
     "source_hidden": true
    }
   },
   "outputs": [
    {
     "data": {
      "text/plain": [
       "{1: 'a', 2: 'b', 3: 'c'}"
      ]
     },
     "execution_count": 5,
     "metadata": {},
     "output_type": "execute_result"
    }
   ],
   "source": [
    "fake_dict = dict( zip(a,b) )\n",
    "\n",
    "fake_dict"
   ]
  },
  {
   "cell_type": "code",
   "execution_count": 6,
   "metadata": {},
   "outputs": [
    {
     "data": {
      "text/plain": [
       "'b'"
      ]
     },
     "execution_count": 6,
     "metadata": {},
     "output_type": "execute_result"
    }
   ],
   "source": [
    "fake_dict[2]"
   ]
  },
  {
   "cell_type": "code",
   "execution_count": 7,
   "metadata": {},
   "outputs": [
    {
     "data": {
      "text/plain": [
       "True"
      ]
     },
     "execution_count": 7,
     "metadata": {},
     "output_type": "execute_result"
    }
   ],
   "source": [
    "\"QSS\" in \"QSS20\""
   ]
  },
  {
   "cell_type": "code",
   "execution_count": 8,
   "metadata": {},
   "outputs": [],
   "source": [
    "list_classes = [\"QSS20\", \"QSS17\", \"QSS45\", \"ECON1\", \"CS31\", \"CS74\"]"
   ]
  },
  {
   "cell_type": "code",
   "execution_count": 9,
   "metadata": {},
   "outputs": [
    {
     "data": {
      "text/plain": [
       "['QSS20', 'QSS17', 'QSS45']"
      ]
     },
     "execution_count": 9,
     "metadata": {},
     "output_type": "execute_result"
    }
   ],
   "source": [
    "empty_list = []\n",
    "for c in list_classes:\n",
    "    if \"QSS\" in c:\n",
    "        empty_list.append(c)\n",
    "        \n",
    "empty_list"
   ]
  },
  {
   "cell_type": "code",
   "execution_count": 10,
   "metadata": {},
   "outputs": [
    {
     "data": {
      "text/plain": [
       "['QSS20', 'QSS17', 'QSS45']"
      ]
     },
     "execution_count": 10,
     "metadata": {},
     "output_type": "execute_result"
    }
   ],
   "source": [
    "[ c for c in list_classes if \"QSS\" in c  ]"
   ]
  },
  {
   "cell_type": "markdown",
   "metadata": {},
   "source": [
    "#### Warm-up: Ways to add 100 to column X"
   ]
  },
  {
   "cell_type": "code",
   "execution_count": 11,
   "metadata": {},
   "outputs": [
    {
     "data": {
      "text/plain": [
       "0        402511.0\n",
       "1        397430.0\n",
       "2        399948.0\n",
       "3        396625.0\n",
       "4        401204.0\n",
       "           ...   \n",
       "27926    400644.0\n",
       "27927    396264.0\n",
       "27928    396330.0\n",
       "27929    406679.0\n",
       "27930    398569.0\n",
       "Name: X, Length: 27931, dtype: float64"
      ]
     },
     "execution_count": 11,
     "metadata": {},
     "output_type": "execute_result"
    }
   ],
   "source": [
    "df['X'] + 100"
   ]
  },
  {
   "cell_type": "code",
   "execution_count": null,
   "metadata": {},
   "outputs": [],
   "source": []
  },
  {
   "cell_type": "markdown",
   "metadata": {},
   "source": [
    "## 1. Aggregation"
   ]
  },
  {
   "cell_type": "markdown",
   "metadata": {},
   "source": [
    "### Example of grouping by one variable and doing one aggregation \n",
    "\n",
    "**Task**: find and print the number of unique offense types (`OFFENSE`) by ward (`WARD`)"
   ]
  },
  {
   "cell_type": "code",
   "execution_count": 12,
   "metadata": {},
   "outputs": [
    {
     "data": {
      "text/plain": [
       "WARD\n",
       "1    9\n",
       "2    9\n",
       "3    8\n",
       "4    8\n",
       "5    9\n",
       "6    9\n",
       "7    9\n",
       "8    9\n",
       "Name: OFFENSE, dtype: int64"
      ]
     },
     "execution_count": 12,
     "metadata": {},
     "output_type": "execute_result"
    }
   ],
   "source": [
    "df.groupby(\"WARD\")[\"OFFENSE\"].nunique()"
   ]
  },
  {
   "cell_type": "code",
   "execution_count": null,
   "metadata": {},
   "outputs": [],
   "source": []
  },
  {
   "cell_type": "markdown",
   "metadata": {},
   "source": [
    "### Example of grouping by one variable and providing two summaries of the same variable\n",
    "\n",
    "**Task**: previous showed number of offenses by ward but want to find out content of offenses in each ward; create an aggregation that summarizes both the number of unique offenses by ward and what those offenses are -- for instance, by pasting the unique offenses in that ward separated by the \";\" (e.g., Theft; Burglary;...)\n",
    "\n",
    "*Hint*: you can use the join command to paste together a list separated by some delimiter. \n",
    "    - The syntax, if we are using the comma delimiter, is: \", \".join(nameoflist)"
   ]
  },
  {
   "cell_type": "code",
   "execution_count": 13,
   "metadata": {},
   "outputs": [
    {
     "data": {
      "text/plain": [
       "WARD\n",
       "1    [THEFT/OTHER, THEFT F/AUTO, ASSAULT W/DANGEROU...\n",
       "2    [THEFT F/AUTO, THEFT/OTHER, MOTOR VEHICLE THEF...\n",
       "3    [THEFT/OTHER, MOTOR VEHICLE THEFT, THEFT F/AUT...\n",
       "4    [THEFT F/AUTO, MOTOR VEHICLE THEFT, THEFT/OTHE...\n",
       "5    [MOTOR VEHICLE THEFT, BURGLARY, THEFT/OTHER, T...\n",
       "6    [THEFT/OTHER, ASSAULT W/DANGEROUS WEAPON, THEF...\n",
       "7    [THEFT/OTHER, ASSAULT W/DANGEROUS WEAPON, THEF...\n",
       "8    [HOMICIDE, ASSAULT W/DANGEROUS WEAPON, ROBBERY...\n",
       "Name: OFFENSE, dtype: object"
      ]
     },
     "execution_count": 13,
     "metadata": {},
     "output_type": "execute_result"
    }
   ],
   "source": [
    "df1 = df.groupby(\"WARD\")[\"OFFENSE\"].unique()\n",
    "df1"
   ]
  },
  {
   "cell_type": "code",
   "execution_count": 14,
   "metadata": {},
   "outputs": [
    {
     "data": {
      "text/plain": [
       "WARD\n",
       "1    9\n",
       "2    9\n",
       "3    8\n",
       "4    8\n",
       "5    9\n",
       "6    9\n",
       "7    9\n",
       "8    9\n",
       "Name: OFFENSE, dtype: int64"
      ]
     },
     "execution_count": 14,
     "metadata": {},
     "output_type": "execute_result"
    }
   ],
   "source": [
    "def count_fx(x):\n",
    "    return len(x)\n",
    "\n",
    "df1.apply(count_fx)"
   ]
  },
  {
   "cell_type": "code",
   "execution_count": 15,
   "metadata": {},
   "outputs": [
    {
     "data": {
      "text/plain": [
       "[(1,\n",
       "  array(['THEFT/OTHER', 'THEFT F/AUTO', 'ASSAULT W/DANGEROUS WEAPON',\n",
       "         'BURGLARY', 'MOTOR VEHICLE THEFT', 'ROBBERY', 'SEX ABUSE',\n",
       "         'HOMICIDE', 'ARSON'], dtype=object)),\n",
       " (2,\n",
       "  array(['THEFT F/AUTO', 'THEFT/OTHER', 'MOTOR VEHICLE THEFT', 'HOMICIDE',\n",
       "         'BURGLARY', 'ROBBERY', 'ASSAULT W/DANGEROUS WEAPON', 'SEX ABUSE',\n",
       "         'ARSON'], dtype=object)),\n",
       " (3,\n",
       "  array(['THEFT/OTHER', 'MOTOR VEHICLE THEFT', 'THEFT F/AUTO', 'BURGLARY',\n",
       "         'ROBBERY', 'ASSAULT W/DANGEROUS WEAPON', 'SEX ABUSE', 'HOMICIDE'],\n",
       "        dtype=object)),\n",
       " (4,\n",
       "  array(['THEFT F/AUTO', 'MOTOR VEHICLE THEFT', 'THEFT/OTHER', 'BURGLARY',\n",
       "         'ASSAULT W/DANGEROUS WEAPON', 'ROBBERY', 'SEX ABUSE', 'HOMICIDE'],\n",
       "        dtype=object)),\n",
       " (5,\n",
       "  array(['MOTOR VEHICLE THEFT', 'BURGLARY', 'THEFT/OTHER', 'THEFT F/AUTO',\n",
       "         'SEX ABUSE', 'ROBBERY', 'ASSAULT W/DANGEROUS WEAPON', 'HOMICIDE',\n",
       "         'ARSON'], dtype=object)),\n",
       " (6,\n",
       "  array(['THEFT/OTHER', 'ASSAULT W/DANGEROUS WEAPON', 'THEFT F/AUTO',\n",
       "         'MOTOR VEHICLE THEFT', 'ROBBERY', 'BURGLARY', 'HOMICIDE',\n",
       "         'SEX ABUSE', 'ARSON'], dtype=object)),\n",
       " (7,\n",
       "  array(['THEFT/OTHER', 'ASSAULT W/DANGEROUS WEAPON', 'THEFT F/AUTO',\n",
       "         'MOTOR VEHICLE THEFT', 'ROBBERY', 'BURGLARY', 'SEX ABUSE',\n",
       "         'HOMICIDE', 'ARSON'], dtype=object)),\n",
       " (8,\n",
       "  array(['HOMICIDE', 'ASSAULT W/DANGEROUS WEAPON', 'ROBBERY',\n",
       "         'THEFT F/AUTO', 'MOTOR VEHICLE THEFT', 'THEFT/OTHER', 'BURGLARY',\n",
       "         'SEX ABUSE', 'ARSON'], dtype=object))]"
      ]
     },
     "execution_count": 15,
     "metadata": {},
     "output_type": "execute_result"
    }
   ],
   "source": [
    "list(df1.items())"
   ]
  },
  {
   "cell_type": "code",
   "execution_count": 16,
   "metadata": {},
   "outputs": [
    {
     "data": {
      "text/plain": [
       "'HOMICIDE; ASSAULT W/DANGEROUS WEAPON; ROBBERY; THEFT F/AUTO; MOTOR VEHICLE THEFT; THEFT/OTHER; BURGLARY; SEX ABUSE; ARSON'"
      ]
     },
     "execution_count": 16,
     "metadata": {},
     "output_type": "execute_result"
    }
   ],
   "source": [
    "def join_text(x):\n",
    "    return \"; \".join(x)\n",
    "\n",
    "join_text(['HOMICIDE', 'ASSAULT W/DANGEROUS WEAPON', 'ROBBERY',\n",
    "         'THEFT F/AUTO', 'MOTOR VEHICLE THEFT', 'THEFT/OTHER', 'BURGLARY',\n",
    "         'SEX ABUSE', 'ARSON'])"
   ]
  },
  {
   "cell_type": "code",
   "execution_count": 17,
   "metadata": {},
   "outputs": [
    {
     "data": {
      "text/plain": [
       "['THEFT/OTHER; THEFT F/AUTO; ASSAULT W/DANGEROUS WEAPON; BURGLARY; MOTOR VEHICLE THEFT; ROBBERY; SEX ABUSE; HOMICIDE; ARSON',\n",
       " 'THEFT F/AUTO; THEFT/OTHER; MOTOR VEHICLE THEFT; HOMICIDE; BURGLARY; ROBBERY; ASSAULT W/DANGEROUS WEAPON; SEX ABUSE; ARSON',\n",
       " 'THEFT/OTHER; MOTOR VEHICLE THEFT; THEFT F/AUTO; BURGLARY; ROBBERY; ASSAULT W/DANGEROUS WEAPON; SEX ABUSE; HOMICIDE',\n",
       " 'THEFT F/AUTO; MOTOR VEHICLE THEFT; THEFT/OTHER; BURGLARY; ASSAULT W/DANGEROUS WEAPON; ROBBERY; SEX ABUSE; HOMICIDE',\n",
       " 'MOTOR VEHICLE THEFT; BURGLARY; THEFT/OTHER; THEFT F/AUTO; SEX ABUSE; ROBBERY; ASSAULT W/DANGEROUS WEAPON; HOMICIDE; ARSON',\n",
       " 'THEFT/OTHER; ASSAULT W/DANGEROUS WEAPON; THEFT F/AUTO; MOTOR VEHICLE THEFT; ROBBERY; BURGLARY; HOMICIDE; SEX ABUSE; ARSON',\n",
       " 'THEFT/OTHER; ASSAULT W/DANGEROUS WEAPON; THEFT F/AUTO; MOTOR VEHICLE THEFT; ROBBERY; BURGLARY; SEX ABUSE; HOMICIDE; ARSON',\n",
       " 'HOMICIDE; ASSAULT W/DANGEROUS WEAPON; ROBBERY; THEFT F/AUTO; MOTOR VEHICLE THEFT; THEFT/OTHER; BURGLARY; SEX ABUSE; ARSON']"
      ]
     },
     "execution_count": 17,
     "metadata": {},
     "output_type": "execute_result"
    }
   ],
   "source": [
    "def join_text(x):\n",
    "    return \"; \".join(x)\n",
    "\n",
    "new_list = []\n",
    "for key, val in list( df1.items() ):\n",
    "    new_list.append( join_text(val))\n",
    "\n",
    "new_list"
   ]
  },
  {
   "cell_type": "code",
   "execution_count": 18,
   "metadata": {},
   "outputs": [
    {
     "data": {
      "text/plain": [
       "WARD\n",
       "1    9\n",
       "2    9\n",
       "3    8\n",
       "4    8\n",
       "5    9\n",
       "6    9\n",
       "7    9\n",
       "8    9\n",
       "Name: OFFENSE, dtype: int64"
      ]
     },
     "execution_count": 18,
     "metadata": {},
     "output_type": "execute_result"
    },
    {
     "data": {
      "text/html": [
       "<div>\n",
       "<style scoped>\n",
       "    .dataframe tbody tr th:only-of-type {\n",
       "        vertical-align: middle;\n",
       "    }\n",
       "\n",
       "    .dataframe tbody tr th {\n",
       "        vertical-align: top;\n",
       "    }\n",
       "\n",
       "    .dataframe thead th {\n",
       "        text-align: right;\n",
       "    }\n",
       "</style>\n",
       "<table border=\"1\" class=\"dataframe\">\n",
       "  <thead>\n",
       "    <tr style=\"text-align: right;\">\n",
       "      <th></th>\n",
       "      <th>WARD</th>\n",
       "      <th>OFFENSE</th>\n",
       "      <th>uniq_off_by_ward</th>\n",
       "    </tr>\n",
       "  </thead>\n",
       "  <tbody>\n",
       "    <tr>\n",
       "      <th>0</th>\n",
       "      <td>1</td>\n",
       "      <td>[THEFT/OTHER, THEFT F/AUTO, ASSAULT W/DANGEROU...</td>\n",
       "      <td>THEFT/OTHER; THEFT F/AUTO; ASSAULT W/DANGEROUS...</td>\n",
       "    </tr>\n",
       "    <tr>\n",
       "      <th>1</th>\n",
       "      <td>2</td>\n",
       "      <td>[THEFT F/AUTO, THEFT/OTHER, MOTOR VEHICLE THEF...</td>\n",
       "      <td>THEFT F/AUTO; THEFT/OTHER; MOTOR VEHICLE THEFT...</td>\n",
       "    </tr>\n",
       "    <tr>\n",
       "      <th>2</th>\n",
       "      <td>3</td>\n",
       "      <td>[THEFT/OTHER, MOTOR VEHICLE THEFT, THEFT F/AUT...</td>\n",
       "      <td>THEFT/OTHER; MOTOR VEHICLE THEFT; THEFT F/AUTO...</td>\n",
       "    </tr>\n",
       "    <tr>\n",
       "      <th>3</th>\n",
       "      <td>4</td>\n",
       "      <td>[THEFT F/AUTO, MOTOR VEHICLE THEFT, THEFT/OTHE...</td>\n",
       "      <td>THEFT F/AUTO; MOTOR VEHICLE THEFT; THEFT/OTHER...</td>\n",
       "    </tr>\n",
       "    <tr>\n",
       "      <th>4</th>\n",
       "      <td>5</td>\n",
       "      <td>[MOTOR VEHICLE THEFT, BURGLARY, THEFT/OTHER, T...</td>\n",
       "      <td>MOTOR VEHICLE THEFT; BURGLARY; THEFT/OTHER; TH...</td>\n",
       "    </tr>\n",
       "    <tr>\n",
       "      <th>5</th>\n",
       "      <td>6</td>\n",
       "      <td>[THEFT/OTHER, ASSAULT W/DANGEROUS WEAPON, THEF...</td>\n",
       "      <td>THEFT/OTHER; ASSAULT W/DANGEROUS WEAPON; THEFT...</td>\n",
       "    </tr>\n",
       "    <tr>\n",
       "      <th>6</th>\n",
       "      <td>7</td>\n",
       "      <td>[THEFT/OTHER, ASSAULT W/DANGEROUS WEAPON, THEF...</td>\n",
       "      <td>THEFT/OTHER; ASSAULT W/DANGEROUS WEAPON; THEFT...</td>\n",
       "    </tr>\n",
       "    <tr>\n",
       "      <th>7</th>\n",
       "      <td>8</td>\n",
       "      <td>[HOMICIDE, ASSAULT W/DANGEROUS WEAPON, ROBBERY...</td>\n",
       "      <td>HOMICIDE; ASSAULT W/DANGEROUS WEAPON; ROBBERY;...</td>\n",
       "    </tr>\n",
       "  </tbody>\n",
       "</table>\n",
       "</div>"
      ],
      "text/plain": [
       "   WARD                                            OFFENSE  \\\n",
       "0     1  [THEFT/OTHER, THEFT F/AUTO, ASSAULT W/DANGEROU...   \n",
       "1     2  [THEFT F/AUTO, THEFT/OTHER, MOTOR VEHICLE THEF...   \n",
       "2     3  [THEFT/OTHER, MOTOR VEHICLE THEFT, THEFT F/AUT...   \n",
       "3     4  [THEFT F/AUTO, MOTOR VEHICLE THEFT, THEFT/OTHE...   \n",
       "4     5  [MOTOR VEHICLE THEFT, BURGLARY, THEFT/OTHER, T...   \n",
       "5     6  [THEFT/OTHER, ASSAULT W/DANGEROUS WEAPON, THEF...   \n",
       "6     7  [THEFT/OTHER, ASSAULT W/DANGEROUS WEAPON, THEF...   \n",
       "7     8  [HOMICIDE, ASSAULT W/DANGEROUS WEAPON, ROBBERY...   \n",
       "\n",
       "                                    uniq_off_by_ward  \n",
       "0  THEFT/OTHER; THEFT F/AUTO; ASSAULT W/DANGEROUS...  \n",
       "1  THEFT F/AUTO; THEFT/OTHER; MOTOR VEHICLE THEFT...  \n",
       "2  THEFT/OTHER; MOTOR VEHICLE THEFT; THEFT F/AUTO...  \n",
       "3  THEFT F/AUTO; MOTOR VEHICLE THEFT; THEFT/OTHER...  \n",
       "4  MOTOR VEHICLE THEFT; BURGLARY; THEFT/OTHER; TH...  \n",
       "5  THEFT/OTHER; ASSAULT W/DANGEROUS WEAPON; THEFT...  \n",
       "6  THEFT/OTHER; ASSAULT W/DANGEROUS WEAPON; THEFT...  \n",
       "7  HOMICIDE; ASSAULT W/DANGEROUS WEAPON; ROBBERY;...  "
      ]
     },
     "execution_count": 18,
     "metadata": {},
     "output_type": "execute_result"
    }
   ],
   "source": [
    "\n",
    "def count_fx(x):\n",
    "    return len(x)\n",
    "\n",
    "def join_text(x):\n",
    "    return \"; \".join(x)\n",
    "\n",
    "new_list = []\n",
    "for key, val in list( df1.items() ):\n",
    "    new_list.append( join_text(val))\n",
    "    \n",
    "df1.apply(count_fx)\n",
    "df2 = df1.reset_index()\n",
    "df2[\"uniq_off_by_ward\"] = new_list\n",
    "df2"
   ]
  },
  {
   "cell_type": "code",
   "execution_count": 19,
   "metadata": {},
   "outputs": [
    {
     "data": {
      "text/html": [
       "<div>\n",
       "<style scoped>\n",
       "    .dataframe tbody tr th:only-of-type {\n",
       "        vertical-align: middle;\n",
       "    }\n",
       "\n",
       "    .dataframe tbody tr th {\n",
       "        vertical-align: top;\n",
       "    }\n",
       "\n",
       "    .dataframe thead th {\n",
       "        text-align: right;\n",
       "    }\n",
       "</style>\n",
       "<table border=\"1\" class=\"dataframe\">\n",
       "  <thead>\n",
       "    <tr style=\"text-align: right;\">\n",
       "      <th></th>\n",
       "      <th>WARD</th>\n",
       "      <th>nuniques</th>\n",
       "      <th>uniq_off_by_ward</th>\n",
       "    </tr>\n",
       "  </thead>\n",
       "  <tbody>\n",
       "    <tr>\n",
       "      <th>0</th>\n",
       "      <td>1</td>\n",
       "      <td>9</td>\n",
       "      <td>THEFT/OTHER; THEFT F/AUTO; ASSAULT W/DANGEROUS...</td>\n",
       "    </tr>\n",
       "    <tr>\n",
       "      <th>1</th>\n",
       "      <td>2</td>\n",
       "      <td>9</td>\n",
       "      <td>THEFT F/AUTO; THEFT/OTHER; MOTOR VEHICLE THEFT...</td>\n",
       "    </tr>\n",
       "    <tr>\n",
       "      <th>2</th>\n",
       "      <td>3</td>\n",
       "      <td>8</td>\n",
       "      <td>THEFT/OTHER; MOTOR VEHICLE THEFT; THEFT F/AUTO...</td>\n",
       "    </tr>\n",
       "    <tr>\n",
       "      <th>3</th>\n",
       "      <td>4</td>\n",
       "      <td>8</td>\n",
       "      <td>THEFT F/AUTO; MOTOR VEHICLE THEFT; THEFT/OTHER...</td>\n",
       "    </tr>\n",
       "    <tr>\n",
       "      <th>4</th>\n",
       "      <td>5</td>\n",
       "      <td>9</td>\n",
       "      <td>MOTOR VEHICLE THEFT; BURGLARY; THEFT/OTHER; TH...</td>\n",
       "    </tr>\n",
       "    <tr>\n",
       "      <th>5</th>\n",
       "      <td>6</td>\n",
       "      <td>9</td>\n",
       "      <td>THEFT/OTHER; ASSAULT W/DANGEROUS WEAPON; THEFT...</td>\n",
       "    </tr>\n",
       "    <tr>\n",
       "      <th>6</th>\n",
       "      <td>7</td>\n",
       "      <td>9</td>\n",
       "      <td>THEFT/OTHER; ASSAULT W/DANGEROUS WEAPON; THEFT...</td>\n",
       "    </tr>\n",
       "    <tr>\n",
       "      <th>7</th>\n",
       "      <td>8</td>\n",
       "      <td>9</td>\n",
       "      <td>HOMICIDE; ASSAULT W/DANGEROUS WEAPON; ROBBERY;...</td>\n",
       "    </tr>\n",
       "  </tbody>\n",
       "</table>\n",
       "</div>"
      ],
      "text/plain": [
       "   WARD  nuniques                                   uniq_off_by_ward\n",
       "0     1         9  THEFT/OTHER; THEFT F/AUTO; ASSAULT W/DANGEROUS...\n",
       "1     2         9  THEFT F/AUTO; THEFT/OTHER; MOTOR VEHICLE THEFT...\n",
       "2     3         8  THEFT/OTHER; MOTOR VEHICLE THEFT; THEFT F/AUTO...\n",
       "3     4         8  THEFT F/AUTO; MOTOR VEHICLE THEFT; THEFT/OTHER...\n",
       "4     5         9  MOTOR VEHICLE THEFT; BURGLARY; THEFT/OTHER; TH...\n",
       "5     6         9  THEFT/OTHER; ASSAULT W/DANGEROUS WEAPON; THEFT...\n",
       "6     7         9  THEFT/OTHER; ASSAULT W/DANGEROUS WEAPON; THEFT...\n",
       "7     8         9  HOMICIDE; ASSAULT W/DANGEROUS WEAPON; ROBBERY;..."
      ]
     },
     "execution_count": 19,
     "metadata": {},
     "output_type": "execute_result"
    }
   ],
   "source": [
    "df1 = df.groupby(\"WARD\")[\"OFFENSE\"].unique()\n",
    "df1 = df1.reset_index()\n",
    "df1[\"nuniques\"] = df1.OFFENSE.apply(len)\n",
    "df1[\"uniq_off_by_ward\"] = df1.OFFENSE.apply(join_text)\n",
    "\n",
    "df1[[\"WARD\", \"nuniques\", \"uniq_off_by_ward\"]]"
   ]
  },
  {
   "cell_type": "code",
   "execution_count": 20,
   "metadata": {},
   "outputs": [
    {
     "data": {
      "text/html": [
       "<div>\n",
       "<style scoped>\n",
       "    .dataframe tbody tr th:only-of-type {\n",
       "        vertical-align: middle;\n",
       "    }\n",
       "\n",
       "    .dataframe tbody tr th {\n",
       "        vertical-align: top;\n",
       "    }\n",
       "\n",
       "    .dataframe thead tr th {\n",
       "        text-align: left;\n",
       "    }\n",
       "\n",
       "    .dataframe thead tr:last-of-type th {\n",
       "        text-align: right;\n",
       "    }\n",
       "</style>\n",
       "<table border=\"1\" class=\"dataframe\">\n",
       "  <thead>\n",
       "    <tr>\n",
       "      <th></th>\n",
       "      <th colspan=\"2\" halign=\"left\">OFFENSE</th>\n",
       "    </tr>\n",
       "    <tr>\n",
       "      <th></th>\n",
       "      <th>nunique</th>\n",
       "      <th>get_uniq_offenses</th>\n",
       "    </tr>\n",
       "    <tr>\n",
       "      <th>WARD</th>\n",
       "      <th></th>\n",
       "      <th></th>\n",
       "    </tr>\n",
       "  </thead>\n",
       "  <tbody>\n",
       "    <tr>\n",
       "      <th>1</th>\n",
       "      <td>9</td>\n",
       "      <td>ARSON; ASSAULT W/DANGEROUS WEAPON; BURGLARY; H...</td>\n",
       "    </tr>\n",
       "    <tr>\n",
       "      <th>2</th>\n",
       "      <td>9</td>\n",
       "      <td>ARSON; ASSAULT W/DANGEROUS WEAPON; BURGLARY; H...</td>\n",
       "    </tr>\n",
       "    <tr>\n",
       "      <th>3</th>\n",
       "      <td>8</td>\n",
       "      <td>ASSAULT W/DANGEROUS WEAPON; BURGLARY; HOMICIDE...</td>\n",
       "    </tr>\n",
       "    <tr>\n",
       "      <th>4</th>\n",
       "      <td>8</td>\n",
       "      <td>ASSAULT W/DANGEROUS WEAPON; BURGLARY; HOMICIDE...</td>\n",
       "    </tr>\n",
       "    <tr>\n",
       "      <th>5</th>\n",
       "      <td>9</td>\n",
       "      <td>ARSON; ASSAULT W/DANGEROUS WEAPON; BURGLARY; H...</td>\n",
       "    </tr>\n",
       "    <tr>\n",
       "      <th>6</th>\n",
       "      <td>9</td>\n",
       "      <td>ARSON; ASSAULT W/DANGEROUS WEAPON; BURGLARY; H...</td>\n",
       "    </tr>\n",
       "    <tr>\n",
       "      <th>7</th>\n",
       "      <td>9</td>\n",
       "      <td>ARSON; ASSAULT W/DANGEROUS WEAPON; BURGLARY; H...</td>\n",
       "    </tr>\n",
       "    <tr>\n",
       "      <th>8</th>\n",
       "      <td>9</td>\n",
       "      <td>ARSON; ASSAULT W/DANGEROUS WEAPON; BURGLARY; H...</td>\n",
       "    </tr>\n",
       "  </tbody>\n",
       "</table>\n",
       "</div>"
      ],
      "text/plain": [
       "     OFFENSE                                                   \n",
       "     nunique                                  get_uniq_offenses\n",
       "WARD                                                           \n",
       "1          9  ARSON; ASSAULT W/DANGEROUS WEAPON; BURGLARY; H...\n",
       "2          9  ARSON; ASSAULT W/DANGEROUS WEAPON; BURGLARY; H...\n",
       "3          8  ASSAULT W/DANGEROUS WEAPON; BURGLARY; HOMICIDE...\n",
       "4          8  ASSAULT W/DANGEROUS WEAPON; BURGLARY; HOMICIDE...\n",
       "5          9  ARSON; ASSAULT W/DANGEROUS WEAPON; BURGLARY; H...\n",
       "6          9  ARSON; ASSAULT W/DANGEROUS WEAPON; BURGLARY; H...\n",
       "7          9  ARSON; ASSAULT W/DANGEROUS WEAPON; BURGLARY; H...\n",
       "8          9  ARSON; ASSAULT W/DANGEROUS WEAPON; BURGLARY; H..."
      ]
     },
     "execution_count": 20,
     "metadata": {},
     "output_type": "execute_result"
    }
   ],
   "source": [
    "def get_uniq_offenses(X):\n",
    "    uniq_offs = sorted( X.unique() )\n",
    "    uniq_offs = \"; \".join( uniq_offs )\n",
    "    return uniq_offs\n",
    "\n",
    "A = uniq_off_valcount_byward = df.groupby(\"WARD\").agg(\n",
    "        {\"OFFENSE\": [\"nunique\", get_uniq_offenses]}\n",
    "    )\n",
    "A"
   ]
  },
  {
   "cell_type": "code",
   "execution_count": null,
   "metadata": {},
   "outputs": [],
   "source": []
  },
  {
   "cell_type": "code",
   "execution_count": null,
   "metadata": {},
   "outputs": [],
   "source": []
  },
  {
   "cell_type": "markdown",
   "metadata": {},
   "source": [
    "### Example of grouping by two variables \n",
    "\n",
    "**Task**: group by ward (`WARD`) and police shift (`SHIFT`) and find the offense that is most common in that ward and shift"
   ]
  },
  {
   "cell_type": "code",
   "execution_count": 21,
   "metadata": {},
   "outputs": [
    {
     "data": {
      "text/html": [
       "<div>\n",
       "<style scoped>\n",
       "    .dataframe tbody tr th:only-of-type {\n",
       "        vertical-align: middle;\n",
       "    }\n",
       "\n",
       "    .dataframe tbody tr th {\n",
       "        vertical-align: top;\n",
       "    }\n",
       "\n",
       "    .dataframe thead th {\n",
       "        text-align: right;\n",
       "    }\n",
       "</style>\n",
       "<table border=\"1\" class=\"dataframe\">\n",
       "  <thead>\n",
       "    <tr style=\"text-align: right;\">\n",
       "      <th></th>\n",
       "      <th>WARD</th>\n",
       "      <th>SHIFT</th>\n",
       "      <th>OFFENSE</th>\n",
       "    </tr>\n",
       "  </thead>\n",
       "  <tbody>\n",
       "    <tr>\n",
       "      <th>0</th>\n",
       "      <td>1</td>\n",
       "      <td>DAY</td>\n",
       "      <td>THEFT/OTHER</td>\n",
       "    </tr>\n",
       "    <tr>\n",
       "      <th>1</th>\n",
       "      <td>1</td>\n",
       "      <td>EVENING</td>\n",
       "      <td>THEFT/OTHER</td>\n",
       "    </tr>\n",
       "    <tr>\n",
       "      <th>2</th>\n",
       "      <td>1</td>\n",
       "      <td>MIDNIGHT</td>\n",
       "      <td>THEFT/OTHER</td>\n",
       "    </tr>\n",
       "    <tr>\n",
       "      <th>3</th>\n",
       "      <td>2</td>\n",
       "      <td>DAY</td>\n",
       "      <td>THEFT/OTHER</td>\n",
       "    </tr>\n",
       "    <tr>\n",
       "      <th>4</th>\n",
       "      <td>2</td>\n",
       "      <td>EVENING</td>\n",
       "      <td>THEFT/OTHER</td>\n",
       "    </tr>\n",
       "    <tr>\n",
       "      <th>5</th>\n",
       "      <td>2</td>\n",
       "      <td>MIDNIGHT</td>\n",
       "      <td>THEFT/OTHER</td>\n",
       "    </tr>\n",
       "    <tr>\n",
       "      <th>6</th>\n",
       "      <td>3</td>\n",
       "      <td>DAY</td>\n",
       "      <td>THEFT/OTHER</td>\n",
       "    </tr>\n",
       "    <tr>\n",
       "      <th>7</th>\n",
       "      <td>3</td>\n",
       "      <td>EVENING</td>\n",
       "      <td>THEFT/OTHER</td>\n",
       "    </tr>\n",
       "    <tr>\n",
       "      <th>8</th>\n",
       "      <td>3</td>\n",
       "      <td>MIDNIGHT</td>\n",
       "      <td>THEFT/OTHER</td>\n",
       "    </tr>\n",
       "    <tr>\n",
       "      <th>9</th>\n",
       "      <td>4</td>\n",
       "      <td>DAY</td>\n",
       "      <td>THEFT F/AUTO</td>\n",
       "    </tr>\n",
       "    <tr>\n",
       "      <th>10</th>\n",
       "      <td>4</td>\n",
       "      <td>EVENING</td>\n",
       "      <td>THEFT/OTHER</td>\n",
       "    </tr>\n",
       "    <tr>\n",
       "      <th>11</th>\n",
       "      <td>4</td>\n",
       "      <td>MIDNIGHT</td>\n",
       "      <td>THEFT/OTHER</td>\n",
       "    </tr>\n",
       "    <tr>\n",
       "      <th>12</th>\n",
       "      <td>5</td>\n",
       "      <td>DAY</td>\n",
       "      <td>THEFT F/AUTO</td>\n",
       "    </tr>\n",
       "    <tr>\n",
       "      <th>13</th>\n",
       "      <td>5</td>\n",
       "      <td>EVENING</td>\n",
       "      <td>THEFT/OTHER</td>\n",
       "    </tr>\n",
       "    <tr>\n",
       "      <th>14</th>\n",
       "      <td>5</td>\n",
       "      <td>MIDNIGHT</td>\n",
       "      <td>THEFT/OTHER</td>\n",
       "    </tr>\n",
       "    <tr>\n",
       "      <th>15</th>\n",
       "      <td>6</td>\n",
       "      <td>DAY</td>\n",
       "      <td>THEFT/OTHER</td>\n",
       "    </tr>\n",
       "    <tr>\n",
       "      <th>16</th>\n",
       "      <td>6</td>\n",
       "      <td>EVENING</td>\n",
       "      <td>THEFT/OTHER</td>\n",
       "    </tr>\n",
       "    <tr>\n",
       "      <th>17</th>\n",
       "      <td>6</td>\n",
       "      <td>MIDNIGHT</td>\n",
       "      <td>THEFT/OTHER</td>\n",
       "    </tr>\n",
       "    <tr>\n",
       "      <th>18</th>\n",
       "      <td>7</td>\n",
       "      <td>DAY</td>\n",
       "      <td>THEFT F/AUTO</td>\n",
       "    </tr>\n",
       "    <tr>\n",
       "      <th>19</th>\n",
       "      <td>7</td>\n",
       "      <td>EVENING</td>\n",
       "      <td>THEFT/OTHER</td>\n",
       "    </tr>\n",
       "    <tr>\n",
       "      <th>20</th>\n",
       "      <td>7</td>\n",
       "      <td>MIDNIGHT</td>\n",
       "      <td>THEFT/OTHER</td>\n",
       "    </tr>\n",
       "    <tr>\n",
       "      <th>21</th>\n",
       "      <td>8</td>\n",
       "      <td>DAY</td>\n",
       "      <td>THEFT F/AUTO</td>\n",
       "    </tr>\n",
       "    <tr>\n",
       "      <th>22</th>\n",
       "      <td>8</td>\n",
       "      <td>EVENING</td>\n",
       "      <td>THEFT/OTHER</td>\n",
       "    </tr>\n",
       "    <tr>\n",
       "      <th>23</th>\n",
       "      <td>8</td>\n",
       "      <td>MIDNIGHT</td>\n",
       "      <td>ASSAULT W/DANGEROUS WEAPON</td>\n",
       "    </tr>\n",
       "  </tbody>\n",
       "</table>\n",
       "</div>"
      ],
      "text/plain": [
       "    WARD     SHIFT                     OFFENSE\n",
       "0      1       DAY                 THEFT/OTHER\n",
       "1      1   EVENING                 THEFT/OTHER\n",
       "2      1  MIDNIGHT                 THEFT/OTHER\n",
       "3      2       DAY                 THEFT/OTHER\n",
       "4      2   EVENING                 THEFT/OTHER\n",
       "5      2  MIDNIGHT                 THEFT/OTHER\n",
       "6      3       DAY                 THEFT/OTHER\n",
       "7      3   EVENING                 THEFT/OTHER\n",
       "8      3  MIDNIGHT                 THEFT/OTHER\n",
       "9      4       DAY                THEFT F/AUTO\n",
       "10     4   EVENING                 THEFT/OTHER\n",
       "11     4  MIDNIGHT                 THEFT/OTHER\n",
       "12     5       DAY                THEFT F/AUTO\n",
       "13     5   EVENING                 THEFT/OTHER\n",
       "14     5  MIDNIGHT                 THEFT/OTHER\n",
       "15     6       DAY                 THEFT/OTHER\n",
       "16     6   EVENING                 THEFT/OTHER\n",
       "17     6  MIDNIGHT                 THEFT/OTHER\n",
       "18     7       DAY                THEFT F/AUTO\n",
       "19     7   EVENING                 THEFT/OTHER\n",
       "20     7  MIDNIGHT                 THEFT/OTHER\n",
       "21     8       DAY                THEFT F/AUTO\n",
       "22     8   EVENING                 THEFT/OTHER\n",
       "23     8  MIDNIGHT  ASSAULT W/DANGEROUS WEAPON"
      ]
     },
     "execution_count": 21,
     "metadata": {},
     "output_type": "execute_result"
    },
    {
     "data": {
      "text/html": [
       "<div>\n",
       "<style scoped>\n",
       "    .dataframe tbody tr th:only-of-type {\n",
       "        vertical-align: middle;\n",
       "    }\n",
       "\n",
       "    .dataframe tbody tr th {\n",
       "        vertical-align: top;\n",
       "    }\n",
       "\n",
       "    .dataframe thead th {\n",
       "        text-align: right;\n",
       "    }\n",
       "</style>\n",
       "<table border=\"1\" class=\"dataframe\">\n",
       "  <thead>\n",
       "    <tr style=\"text-align: right;\">\n",
       "      <th></th>\n",
       "      <th>WARD</th>\n",
       "      <th>SHIFT</th>\n",
       "      <th>OFFENSE</th>\n",
       "    </tr>\n",
       "  </thead>\n",
       "  <tbody>\n",
       "    <tr>\n",
       "      <th>0</th>\n",
       "      <td>1</td>\n",
       "      <td>DAY</td>\n",
       "      <td>THEFT/OTHER</td>\n",
       "    </tr>\n",
       "    <tr>\n",
       "      <th>1</th>\n",
       "      <td>1</td>\n",
       "      <td>EVENING</td>\n",
       "      <td>THEFT/OTHER</td>\n",
       "    </tr>\n",
       "    <tr>\n",
       "      <th>2</th>\n",
       "      <td>1</td>\n",
       "      <td>MIDNIGHT</td>\n",
       "      <td>THEFT/OTHER</td>\n",
       "    </tr>\n",
       "    <tr>\n",
       "      <th>3</th>\n",
       "      <td>2</td>\n",
       "      <td>DAY</td>\n",
       "      <td>THEFT/OTHER</td>\n",
       "    </tr>\n",
       "    <tr>\n",
       "      <th>4</th>\n",
       "      <td>2</td>\n",
       "      <td>EVENING</td>\n",
       "      <td>THEFT/OTHER</td>\n",
       "    </tr>\n",
       "    <tr>\n",
       "      <th>5</th>\n",
       "      <td>2</td>\n",
       "      <td>MIDNIGHT</td>\n",
       "      <td>THEFT/OTHER</td>\n",
       "    </tr>\n",
       "    <tr>\n",
       "      <th>6</th>\n",
       "      <td>3</td>\n",
       "      <td>DAY</td>\n",
       "      <td>THEFT/OTHER</td>\n",
       "    </tr>\n",
       "    <tr>\n",
       "      <th>7</th>\n",
       "      <td>3</td>\n",
       "      <td>EVENING</td>\n",
       "      <td>THEFT/OTHER</td>\n",
       "    </tr>\n",
       "    <tr>\n",
       "      <th>8</th>\n",
       "      <td>3</td>\n",
       "      <td>MIDNIGHT</td>\n",
       "      <td>THEFT/OTHER</td>\n",
       "    </tr>\n",
       "    <tr>\n",
       "      <th>9</th>\n",
       "      <td>4</td>\n",
       "      <td>DAY</td>\n",
       "      <td>THEFT F/AUTO</td>\n",
       "    </tr>\n",
       "    <tr>\n",
       "      <th>10</th>\n",
       "      <td>4</td>\n",
       "      <td>EVENING</td>\n",
       "      <td>THEFT/OTHER</td>\n",
       "    </tr>\n",
       "    <tr>\n",
       "      <th>11</th>\n",
       "      <td>4</td>\n",
       "      <td>MIDNIGHT</td>\n",
       "      <td>THEFT/OTHER</td>\n",
       "    </tr>\n",
       "    <tr>\n",
       "      <th>12</th>\n",
       "      <td>5</td>\n",
       "      <td>DAY</td>\n",
       "      <td>THEFT F/AUTO</td>\n",
       "    </tr>\n",
       "    <tr>\n",
       "      <th>13</th>\n",
       "      <td>5</td>\n",
       "      <td>EVENING</td>\n",
       "      <td>THEFT/OTHER</td>\n",
       "    </tr>\n",
       "    <tr>\n",
       "      <th>14</th>\n",
       "      <td>5</td>\n",
       "      <td>MIDNIGHT</td>\n",
       "      <td>THEFT/OTHER</td>\n",
       "    </tr>\n",
       "    <tr>\n",
       "      <th>15</th>\n",
       "      <td>6</td>\n",
       "      <td>DAY</td>\n",
       "      <td>THEFT/OTHER</td>\n",
       "    </tr>\n",
       "    <tr>\n",
       "      <th>16</th>\n",
       "      <td>6</td>\n",
       "      <td>EVENING</td>\n",
       "      <td>THEFT/OTHER</td>\n",
       "    </tr>\n",
       "    <tr>\n",
       "      <th>17</th>\n",
       "      <td>6</td>\n",
       "      <td>MIDNIGHT</td>\n",
       "      <td>THEFT/OTHER</td>\n",
       "    </tr>\n",
       "    <tr>\n",
       "      <th>18</th>\n",
       "      <td>7</td>\n",
       "      <td>DAY</td>\n",
       "      <td>THEFT F/AUTO</td>\n",
       "    </tr>\n",
       "    <tr>\n",
       "      <th>19</th>\n",
       "      <td>7</td>\n",
       "      <td>EVENING</td>\n",
       "      <td>THEFT/OTHER</td>\n",
       "    </tr>\n",
       "    <tr>\n",
       "      <th>20</th>\n",
       "      <td>7</td>\n",
       "      <td>MIDNIGHT</td>\n",
       "      <td>THEFT/OTHER</td>\n",
       "    </tr>\n",
       "    <tr>\n",
       "      <th>21</th>\n",
       "      <td>8</td>\n",
       "      <td>DAY</td>\n",
       "      <td>THEFT F/AUTO</td>\n",
       "    </tr>\n",
       "    <tr>\n",
       "      <th>22</th>\n",
       "      <td>8</td>\n",
       "      <td>EVENING</td>\n",
       "      <td>THEFT/OTHER</td>\n",
       "    </tr>\n",
       "    <tr>\n",
       "      <th>23</th>\n",
       "      <td>8</td>\n",
       "      <td>MIDNIGHT</td>\n",
       "      <td>ASSAULT W/DANGEROUS WEAPON</td>\n",
       "    </tr>\n",
       "  </tbody>\n",
       "</table>\n",
       "</div>"
      ],
      "text/plain": [
       "    WARD     SHIFT                     OFFENSE\n",
       "0      1       DAY                 THEFT/OTHER\n",
       "1      1   EVENING                 THEFT/OTHER\n",
       "2      1  MIDNIGHT                 THEFT/OTHER\n",
       "3      2       DAY                 THEFT/OTHER\n",
       "4      2   EVENING                 THEFT/OTHER\n",
       "5      2  MIDNIGHT                 THEFT/OTHER\n",
       "6      3       DAY                 THEFT/OTHER\n",
       "7      3   EVENING                 THEFT/OTHER\n",
       "8      3  MIDNIGHT                 THEFT/OTHER\n",
       "9      4       DAY                THEFT F/AUTO\n",
       "10     4   EVENING                 THEFT/OTHER\n",
       "11     4  MIDNIGHT                 THEFT/OTHER\n",
       "12     5       DAY                THEFT F/AUTO\n",
       "13     5   EVENING                 THEFT/OTHER\n",
       "14     5  MIDNIGHT                 THEFT/OTHER\n",
       "15     6       DAY                 THEFT/OTHER\n",
       "16     6   EVENING                 THEFT/OTHER\n",
       "17     6  MIDNIGHT                 THEFT/OTHER\n",
       "18     7       DAY                THEFT F/AUTO\n",
       "19     7   EVENING                 THEFT/OTHER\n",
       "20     7  MIDNIGHT                 THEFT/OTHER\n",
       "21     8       DAY                THEFT F/AUTO\n",
       "22     8   EVENING                 THEFT/OTHER\n",
       "23     8  MIDNIGHT  ASSAULT W/DANGEROUS WEAPON"
      ]
     },
     "execution_count": 21,
     "metadata": {},
     "output_type": "execute_result"
    }
   ],
   "source": [
    "def get_mode(x):\n",
    "    return x.mode()\n",
    "\n",
    "df.groupby([\"WARD\", \"SHIFT\"]).agg(\n",
    "    {\n",
    "        \"OFFENSE\": get_mode\n",
    "    }\n",
    ").reset_index()\n",
    "\n",
    "df.groupby([\"WARD\", \"SHIFT\"]).agg(\n",
    "    {\n",
    "        \"OFFENSE\": lambda x: x.mode()\n",
    "    }\n",
    ").reset_index()\n",
    "\n",
    "# df.groupby([\"WARD\", \"SHIFT\"]).agg(\n",
    "#     {\n",
    "#         \"OFFENSE\": lambda x: x.mode()\n",
    "#     }\n",
    "# ).reset_index()"
   ]
  },
  {
   "cell_type": "code",
   "execution_count": 52,
   "metadata": {},
   "outputs": [
    {
     "data": {
      "text/html": [
       "<div>\n",
       "<style scoped>\n",
       "    .dataframe tbody tr th:only-of-type {\n",
       "        vertical-align: middle;\n",
       "    }\n",
       "\n",
       "    .dataframe tbody tr th {\n",
       "        vertical-align: top;\n",
       "    }\n",
       "\n",
       "    .dataframe thead th {\n",
       "        text-align: right;\n",
       "    }\n",
       "</style>\n",
       "<table border=\"1\" class=\"dataframe\">\n",
       "  <thead>\n",
       "    <tr style=\"text-align: right;\">\n",
       "      <th></th>\n",
       "      <th>WARD</th>\n",
       "      <th>SHIFT</th>\n",
       "      <th>OFFENSE</th>\n",
       "    </tr>\n",
       "  </thead>\n",
       "  <tbody>\n",
       "    <tr>\n",
       "      <th>0</th>\n",
       "      <td>1</td>\n",
       "      <td>DAY</td>\n",
       "      <td>THEFT/OTHER</td>\n",
       "    </tr>\n",
       "    <tr>\n",
       "      <th>1</th>\n",
       "      <td>1</td>\n",
       "      <td>EVENING</td>\n",
       "      <td>THEFT/OTHER</td>\n",
       "    </tr>\n",
       "    <tr>\n",
       "      <th>2</th>\n",
       "      <td>1</td>\n",
       "      <td>MIDNIGHT</td>\n",
       "      <td>THEFT/OTHER</td>\n",
       "    </tr>\n",
       "    <tr>\n",
       "      <th>3</th>\n",
       "      <td>2</td>\n",
       "      <td>DAY</td>\n",
       "      <td>THEFT/OTHER</td>\n",
       "    </tr>\n",
       "    <tr>\n",
       "      <th>4</th>\n",
       "      <td>2</td>\n",
       "      <td>EVENING</td>\n",
       "      <td>THEFT/OTHER</td>\n",
       "    </tr>\n",
       "    <tr>\n",
       "      <th>5</th>\n",
       "      <td>2</td>\n",
       "      <td>MIDNIGHT</td>\n",
       "      <td>THEFT/OTHER</td>\n",
       "    </tr>\n",
       "    <tr>\n",
       "      <th>6</th>\n",
       "      <td>3</td>\n",
       "      <td>DAY</td>\n",
       "      <td>THEFT/OTHER</td>\n",
       "    </tr>\n",
       "    <tr>\n",
       "      <th>7</th>\n",
       "      <td>3</td>\n",
       "      <td>EVENING</td>\n",
       "      <td>THEFT/OTHER</td>\n",
       "    </tr>\n",
       "    <tr>\n",
       "      <th>8</th>\n",
       "      <td>3</td>\n",
       "      <td>MIDNIGHT</td>\n",
       "      <td>THEFT/OTHER</td>\n",
       "    </tr>\n",
       "    <tr>\n",
       "      <th>9</th>\n",
       "      <td>4</td>\n",
       "      <td>DAY</td>\n",
       "      <td>THEFT/OTHER</td>\n",
       "    </tr>\n",
       "    <tr>\n",
       "      <th>10</th>\n",
       "      <td>4</td>\n",
       "      <td>EVENING</td>\n",
       "      <td>THEFT/OTHER</td>\n",
       "    </tr>\n",
       "    <tr>\n",
       "      <th>11</th>\n",
       "      <td>4</td>\n",
       "      <td>MIDNIGHT</td>\n",
       "      <td>THEFT/OTHER</td>\n",
       "    </tr>\n",
       "    <tr>\n",
       "      <th>12</th>\n",
       "      <td>5</td>\n",
       "      <td>DAY</td>\n",
       "      <td>THEFT/OTHER</td>\n",
       "    </tr>\n",
       "    <tr>\n",
       "      <th>13</th>\n",
       "      <td>5</td>\n",
       "      <td>EVENING</td>\n",
       "      <td>THEFT/OTHER</td>\n",
       "    </tr>\n",
       "    <tr>\n",
       "      <th>14</th>\n",
       "      <td>5</td>\n",
       "      <td>MIDNIGHT</td>\n",
       "      <td>THEFT/OTHER</td>\n",
       "    </tr>\n",
       "    <tr>\n",
       "      <th>15</th>\n",
       "      <td>6</td>\n",
       "      <td>DAY</td>\n",
       "      <td>THEFT/OTHER</td>\n",
       "    </tr>\n",
       "    <tr>\n",
       "      <th>16</th>\n",
       "      <td>6</td>\n",
       "      <td>EVENING</td>\n",
       "      <td>THEFT/OTHER</td>\n",
       "    </tr>\n",
       "    <tr>\n",
       "      <th>17</th>\n",
       "      <td>6</td>\n",
       "      <td>MIDNIGHT</td>\n",
       "      <td>THEFT/OTHER</td>\n",
       "    </tr>\n",
       "    <tr>\n",
       "      <th>18</th>\n",
       "      <td>7</td>\n",
       "      <td>DAY</td>\n",
       "      <td>THEFT/OTHER</td>\n",
       "    </tr>\n",
       "    <tr>\n",
       "      <th>19</th>\n",
       "      <td>7</td>\n",
       "      <td>EVENING</td>\n",
       "      <td>THEFT/OTHER</td>\n",
       "    </tr>\n",
       "    <tr>\n",
       "      <th>20</th>\n",
       "      <td>7</td>\n",
       "      <td>MIDNIGHT</td>\n",
       "      <td>THEFT/OTHER</td>\n",
       "    </tr>\n",
       "    <tr>\n",
       "      <th>21</th>\n",
       "      <td>8</td>\n",
       "      <td>DAY</td>\n",
       "      <td>THEFT/OTHER</td>\n",
       "    </tr>\n",
       "    <tr>\n",
       "      <th>22</th>\n",
       "      <td>8</td>\n",
       "      <td>EVENING</td>\n",
       "      <td>THEFT/OTHER</td>\n",
       "    </tr>\n",
       "    <tr>\n",
       "      <th>23</th>\n",
       "      <td>8</td>\n",
       "      <td>MIDNIGHT</td>\n",
       "      <td>THEFT/OTHER</td>\n",
       "    </tr>\n",
       "  </tbody>\n",
       "</table>\n",
       "</div>"
      ],
      "text/plain": [
       "    WARD     SHIFT      OFFENSE\n",
       "0      1       DAY  THEFT/OTHER\n",
       "1      1   EVENING  THEFT/OTHER\n",
       "2      1  MIDNIGHT  THEFT/OTHER\n",
       "3      2       DAY  THEFT/OTHER\n",
       "4      2   EVENING  THEFT/OTHER\n",
       "5      2  MIDNIGHT  THEFT/OTHER\n",
       "6      3       DAY  THEFT/OTHER\n",
       "7      3   EVENING  THEFT/OTHER\n",
       "8      3  MIDNIGHT  THEFT/OTHER\n",
       "9      4       DAY  THEFT/OTHER\n",
       "10     4   EVENING  THEFT/OTHER\n",
       "11     4  MIDNIGHT  THEFT/OTHER\n",
       "12     5       DAY  THEFT/OTHER\n",
       "13     5   EVENING  THEFT/OTHER\n",
       "14     5  MIDNIGHT  THEFT/OTHER\n",
       "15     6       DAY  THEFT/OTHER\n",
       "16     6   EVENING  THEFT/OTHER\n",
       "17     6  MIDNIGHT  THEFT/OTHER\n",
       "18     7       DAY  THEFT/OTHER\n",
       "19     7   EVENING  THEFT/OTHER\n",
       "20     7  MIDNIGHT  THEFT/OTHER\n",
       "21     8       DAY  THEFT/OTHER\n",
       "22     8   EVENING  THEFT/OTHER\n",
       "23     8  MIDNIGHT  THEFT/OTHER"
      ]
     },
     "execution_count": 52,
     "metadata": {},
     "output_type": "execute_result"
    }
   ],
   "source": [
    "df.groupby([\"WARD\", \"SHIFT\"]).agg(\n",
    "    {\n",
    "        \"OFFENSE\": \"max\"\n",
    "    }\n",
    ").reset_index()"
   ]
  },
  {
   "cell_type": "markdown",
   "metadata": {},
   "source": [
    "## Summarizing over all rows or all columns (without grouping)\n",
    "\n",
    "We can also use the `apply` function to summarize rows or columns efficiently"
   ]
  },
  {
   "cell_type": "markdown",
   "metadata": {},
   "source": [
    "**Task**: find the mean lat and longitude in one line of code"
   ]
  },
  {
   "cell_type": "code",
   "execution_count": 23,
   "metadata": {},
   "outputs": [
    {
     "data": {
      "text/plain": [
       "X    399389.390299\n",
       "Y    137750.788528\n",
       "dtype: float64"
      ]
     },
     "execution_count": 23,
     "metadata": {},
     "output_type": "execute_result"
    }
   ],
   "source": [
    "df[[\"X\",\"Y\"]].mean()"
   ]
  },
  {
   "cell_type": "code",
   "execution_count": 24,
   "metadata": {},
   "outputs": [
    {
     "data": {
      "text/plain": [
       "X    399389.390299\n",
       "Y    137750.788528\n",
       "dtype: float64"
      ]
     },
     "execution_count": 24,
     "metadata": {},
     "output_type": "execute_result"
    }
   ],
   "source": [
    "df[[\"X\",\"Y\"]].apply(np.mean, axis=0)"
   ]
  },
  {
   "cell_type": "code",
   "execution_count": 25,
   "metadata": {},
   "outputs": [
    {
     "data": {
      "text/plain": [
       "0        267109.5\n",
       "1        267776.5\n",
       "2        264026.5\n",
       "3        268412.0\n",
       "4        269666.5\n",
       "           ...   \n",
       "27926    269427.0\n",
       "27927    267824.5\n",
       "27928    266828.5\n",
       "27929    271885.0\n",
       "27930    266458.5\n",
       "Length: 27931, dtype: float64"
      ]
     },
     "execution_count": 25,
     "metadata": {},
     "output_type": "execute_result"
    }
   ],
   "source": [
    "df[[\"X\",\"Y\"]].apply(np.mean, axis=1)"
   ]
  },
  {
   "cell_type": "markdown",
   "metadata": {},
   "source": [
    "## 2. Creating new columns/transforming their type "
   ]
  },
  {
   "cell_type": "markdown",
   "metadata": {},
   "source": [
    "### Simple filtering\n",
    "\n",
    "\n",
    "But there is a built in pandas way to emulate this.\n",
    "\n",
    "**Task**: create an indicator `is_theft` for any offense that contains the word \"THEFT\"\n",
    "    \n",
    "**Task**: create an indicator `is_theft_notmotor` for any offense that contains the word \"THEFT\" but does not contain the word \"MOTOR\""
   ]
  },
  {
   "cell_type": "code",
   "execution_count": 26,
   "metadata": {},
   "outputs": [
    {
     "data": {
      "text/plain": [
       "1               THEFT F/AUTO\n",
       "3                THEFT/OTHER\n",
       "4        MOTOR VEHICLE THEFT\n",
       "5               THEFT F/AUTO\n",
       "6                THEFT/OTHER\n",
       "                ...         \n",
       "27925           THEFT F/AUTO\n",
       "27926           THEFT F/AUTO\n",
       "27927            THEFT/OTHER\n",
       "27929    MOTOR VEHICLE THEFT\n",
       "27930            THEFT/OTHER\n",
       "Name: OFFENSE, Length: 22469, dtype: object"
      ]
     },
     "execution_count": 26,
     "metadata": {},
     "output_type": "execute_result"
    }
   ],
   "source": [
    "df['is_theft'] = df['OFFENSE'].str.contains(\"THEFT\")\n",
    "df.loc[df['is_theft'], \"OFFENSE\"]"
   ]
  },
  {
   "cell_type": "code",
   "execution_count": 27,
   "metadata": {},
   "outputs": [
    {
     "data": {
      "text/plain": [
       "1        THEFT F/AUTO\n",
       "3         THEFT/OTHER\n",
       "5        THEFT F/AUTO\n",
       "6         THEFT/OTHER\n",
       "9         THEFT/OTHER\n",
       "             ...     \n",
       "27924     THEFT/OTHER\n",
       "27925    THEFT F/AUTO\n",
       "27926    THEFT F/AUTO\n",
       "27927     THEFT/OTHER\n",
       "27930     THEFT/OTHER\n",
       "Name: OFFENSE, Length: 19210, dtype: object"
      ]
     },
     "execution_count": 27,
     "metadata": {},
     "output_type": "execute_result"
    }
   ],
   "source": [
    "df['is_theft_notmoter'] = (\n",
    "    df['OFFENSE'].str.contains(\"THEFT\") &\n",
    "    ~df['OFFENSE'].str.contains(\"MOTOR\")\n",
    ")\n",
    "df.loc[df['is_theft_notmoter'], \"OFFENSE\"]"
   ]
  },
  {
   "cell_type": "markdown",
   "metadata": {},
   "source": [
    "### np.select\n",
    "\n",
    "**Task**: create a new variable, `offense_summary`, where you:\n",
    "        \n",
    "- Recode theft offenses that use a gun or knife as the method (`METHOD`) as: violent theft\n",
    "- Recode non-theft offenses that use a gun or knife as the method as: violent other\n",
    "- Recode all other as non-violent "
   ]
  },
  {
   "cell_type": "code",
   "execution_count": 28,
   "metadata": {},
   "outputs": [
    {
     "data": {
      "text/plain": [
       "(3, 27931)"
      ]
     },
     "execution_count": 28,
     "metadata": {},
     "output_type": "execute_result"
    },
    {
     "data": {
      "text/plain": [
       "3"
      ]
     },
     "execution_count": 28,
     "metadata": {},
     "output_type": "execute_result"
    },
    {
     "data": {
      "text/plain": [
       "(27931, 27)"
      ]
     },
     "execution_count": 28,
     "metadata": {},
     "output_type": "execute_result"
    }
   ],
   "source": [
    "categories = [\"violent theft\", \"violent other\", \"non-violent\"]\n",
    "\n",
    "conditions = [(df['is_theft']) & (df['METHOD'].str.contains(\"GUN\", \"KNIFE\")),\n",
    "              (~df['is_theft']) & (df['METHOD'].str.contains(\"GUN\", \"KNIFE\")),\n",
    "             ~(df['METHOD'].str.contains(\"GUN\", \"KNIFE\"))]\n",
    "\n",
    "len(conditions), len(conditions[0])\n",
    "len(categories)\n",
    "df.shape"
   ]
  },
  {
   "cell_type": "code",
   "execution_count": 29,
   "metadata": {},
   "outputs": [
    {
     "name": "stdout",
     "output_type": "stream",
     "text": [
      "       METHOD  is_theft offense_summary\n",
      "0      OTHERS     False     non-violent\n",
      "1      OTHERS      True     non-violent\n",
      "2      OTHERS     False     non-violent\n",
      "3      OTHERS      True     non-violent\n",
      "4      OTHERS      True     non-violent\n",
      "...       ...       ...             ...\n",
      "27926  OTHERS      True     non-violent\n",
      "27927  OTHERS      True     non-violent\n",
      "27928   KNIFE     False     non-violent\n",
      "27929  OTHERS      True     non-violent\n",
      "27930  OTHERS      True     non-violent\n",
      "\n",
      "[27931 rows x 3 columns]\n"
     ]
    }
   ],
   "source": [
    "df[\"offense_summary\"] = np.select(conditions, categories, default=\"non-violent\")\n",
    "\n",
    "print(df[[\"METHOD\", \"is_theft\", \"offense_summary\"]])"
   ]
  },
  {
   "cell_type": "markdown",
   "metadata": {},
   "source": [
    "### map.recode\n",
    "\n",
    "**Task**: recode shifts that are MIDNIGHT or EVENING as \"nighttime\"; code other shift to daytime"
   ]
  },
  {
   "cell_type": "code",
   "execution_count": 30,
   "metadata": {},
   "outputs": [
    {
     "data": {
      "text/plain": [
       "{'MIDNIGHT': 'nighttime', 'EVENING': 'nighttime', 'DAY': 'daytime'}"
      ]
     },
     "execution_count": 30,
     "metadata": {},
     "output_type": "execute_result"
    }
   ],
   "source": [
    "shifts = [\"MIDNIGHT\", \"EVENING\", \"DAY\"]\n",
    "new_period = [\"nighttime\", \"nighttime\", \"daytime\"]\n",
    "convert_dict = dict(zip(shifts, new_period))\n",
    "convert_dict"
   ]
  },
  {
   "cell_type": "code",
   "execution_count": 31,
   "metadata": {},
   "outputs": [
    {
     "data": {
      "text/plain": [
       "SHIFT_NEW\n",
       "nighttime    17837\n",
       "daytime      10094\n",
       "Name: count, dtype: int64"
      ]
     },
     "execution_count": 31,
     "metadata": {},
     "output_type": "execute_result"
    }
   ],
   "source": [
    "df[\"SHIFT_NEW\"] = df[\"SHIFT\"].map(convert_dict)\n",
    "df[\"SHIFT_NEW\"].value_counts()"
   ]
  },
  {
   "cell_type": "code",
   "execution_count": 32,
   "metadata": {},
   "outputs": [
    {
     "data": {
      "text/plain": [
       "SHIFT_NEW\n",
       "nighttime    17837\n",
       "daytime      10094\n",
       "Name: count, dtype: int64"
      ]
     },
     "execution_count": 32,
     "metadata": {},
     "output_type": "execute_result"
    }
   ],
   "source": [
    "df[\"SHIFT_NEW\"] = df[\"SHIFT\"].apply(lambda x: convert_dict[x])\n",
    "df[\"SHIFT_NEW\"].value_counts()"
   ]
  },
  {
   "cell_type": "markdown",
   "metadata": {},
   "source": [
    "### Using built-in pandas methods\n",
    "\n",
    "Another way of creating variables, used either alone or in combination with np.where and np.select is to use pandas built in `str` methods\n",
    "\n",
    "Basic structure is: `df['namestringcol'].str.someoperation`"
   ]
  },
  {
   "cell_type": "markdown",
   "metadata": {},
   "source": [
    "**Task**: using a `str` method, create a new column--`OFFENSE_NOSP`--that replaces spaces in the `OFFENSE` column with underscores"
   ]
  },
  {
   "cell_type": "code",
   "execution_count": 51,
   "metadata": {},
   "outputs": [
    {
     "data": {
      "text/plain": [
       "0                          HOMICIDE\n",
       "1                      THEFT_F/AUTO\n",
       "2                          HOMICIDE\n",
       "3                       THEFT/OTHER\n",
       "4               MOTOR_VEHICLE_THEFT\n",
       "                    ...            \n",
       "27926                  THEFT_F/AUTO\n",
       "27927                   THEFT/OTHER\n",
       "27928    ASSAULT_W/DANGEROUS_WEAPON\n",
       "27929           MOTOR_VEHICLE_THEFT\n",
       "27930                   THEFT/OTHER\n",
       "Name: OFFENSE_NOSP, Length: 27931, dtype: object"
      ]
     },
     "execution_count": 51,
     "metadata": {},
     "output_type": "execute_result"
    }
   ],
   "source": [
    "df[\"OFFENSE_NOSP\"] = df['OFFENSE'].str.replace(\" \", \"_\")\n",
    "df[\"OFFENSE_NOSP\"]"
   ]
  },
  {
   "cell_type": "markdown",
   "metadata": {},
   "source": [
    "### Transforming column types\n",
    "\n",
    "**Task**: check the type of the `START_DATE` column"
   ]
  },
  {
   "cell_type": "code",
   "execution_count": null,
   "metadata": {},
   "outputs": [
    {
     "data": {
      "text/plain": [
       "pandas.core.series.Series"
      ]
     },
     "execution_count": 32,
     "metadata": {},
     "output_type": "execute_result"
    }
   ],
   "source": [
    "type(df[\"START_DATE\"])"
   ]
  },
  {
   "cell_type": "code",
   "execution_count": 36,
   "metadata": {},
   "outputs": [
    {
     "data": {
      "text/plain": [
       "str"
      ]
     },
     "execution_count": 36,
     "metadata": {},
     "output_type": "execute_result"
    }
   ],
   "source": [
    "type(df[\"START_DATE\"][0])"
   ]
  },
  {
   "cell_type": "code",
   "execution_count": 42,
   "metadata": {},
   "outputs": [
    {
     "data": {
      "text/plain": [
       "dtype('O')"
      ]
     },
     "execution_count": 42,
     "metadata": {},
     "output_type": "execute_result"
    }
   ],
   "source": [
    "df[\"START_DATE\"].dtypes"
   ]
  },
  {
   "cell_type": "code",
   "execution_count": 41,
   "metadata": {},
   "outputs": [
    {
     "data": {
      "text/plain": [
       "X                       float64\n",
       "Y                       float64\n",
       "CCN                       int64\n",
       "REPORT_DAT               object\n",
       "SHIFT                    object\n",
       "METHOD                   object\n",
       "OFFENSE                  object\n",
       "BLOCK                    object\n",
       "XBLOCK                  float64\n",
       "YBLOCK                  float64\n",
       "WARD                      int64\n",
       "ANC                      object\n",
       "DISTRICT                float64\n",
       "PSA                     float64\n",
       "NEIGHBORHOOD_CLUSTER     object\n",
       "BLOCK_GROUP              object\n",
       "CENSUS_TRACT            float64\n",
       "VOTING_PRECINCT          object\n",
       "LATITUDE                float64\n",
       "LONGITUDE               float64\n",
       "BID                      object\n",
       "START_DATE               object\n",
       "END_DATE                 object\n",
       "OBJECTID                  int64\n",
       "OCTO_RECORD_ID          float64\n",
       "is_theft                   bool\n",
       "is_theft_notmoter          bool\n",
       "offense_summary          object\n",
       "SHIFT_NEW                object\n",
       "dtype: object"
      ]
     },
     "execution_count": 41,
     "metadata": {},
     "output_type": "execute_result"
    }
   ],
   "source": [
    "df.dtypes"
   ]
  },
  {
   "cell_type": "markdown",
   "metadata": {},
   "source": [
    "**Task**: recast the `START_DATE` column to datetime, calling this `START_DATE_CLEAN`; coerce errors rather than cleaning the string; check the type of that new col"
   ]
  },
  {
   "cell_type": "code",
   "execution_count": 47,
   "metadata": {},
   "outputs": [
    {
     "data": {
      "text/plain": [
       "0       2010-10-10 02:00:00+00:00\n",
       "1       2020-01-28 05:14:58+00:00\n",
       "2       2018-03-26 08:40:06+00:00\n",
       "3       2020-08-07 09:40:16+00:00\n",
       "4       2020-08-23 06:00:25+00:00\n",
       "                   ...           \n",
       "27926   2020-07-27 15:30:04+00:00\n",
       "27927   2020-12-15 22:53:00+00:00\n",
       "27928   2020-12-05 23:56:23+00:00\n",
       "27929   2020-12-07 12:51:20+00:00\n",
       "27930   2020-12-07 17:07:15+00:00\n",
       "Name: START_DATE_CLEAN, Length: 27931, dtype: datetime64[ns, UTC]"
      ]
     },
     "execution_count": 47,
     "metadata": {},
     "output_type": "execute_result"
    }
   ],
   "source": [
    "df[\"START_DATE_CLEAN\"] = pd.to_datetime(df[\"START_DATE\"], errors = 'coerce')\n",
    "df[\"START_DATE_CLEAN\"]"
   ]
  },
  {
   "cell_type": "code",
   "execution_count": 48,
   "metadata": {},
   "outputs": [
    {
     "data": {
      "text/plain": [
       "pandas._libs.tslibs.timestamps.Timestamp"
      ]
     },
     "execution_count": 48,
     "metadata": {},
     "output_type": "execute_result"
    }
   ],
   "source": [
    "type(df[\"START_DATE_CLEAN\"][0])"
   ]
  },
  {
   "cell_type": "code",
   "execution_count": 45,
   "metadata": {},
   "outputs": [
    {
     "data": {
      "text/plain": [
       "datetime64[ns, UTC]"
      ]
     },
     "execution_count": 45,
     "metadata": {},
     "output_type": "execute_result"
    }
   ],
   "source": [
    "df[\"START_DATE_CLEAN\"].dtypes"
   ]
  },
  {
   "cell_type": "code",
   "execution_count": 46,
   "metadata": {},
   "outputs": [
    {
     "data": {
      "text/plain": [
       "X                                   float64\n",
       "Y                                   float64\n",
       "CCN                                   int64\n",
       "REPORT_DAT                           object\n",
       "SHIFT                                object\n",
       "METHOD                               object\n",
       "OFFENSE                              object\n",
       "BLOCK                                object\n",
       "XBLOCK                              float64\n",
       "YBLOCK                              float64\n",
       "WARD                                  int64\n",
       "ANC                                  object\n",
       "DISTRICT                            float64\n",
       "PSA                                 float64\n",
       "NEIGHBORHOOD_CLUSTER                 object\n",
       "BLOCK_GROUP                          object\n",
       "CENSUS_TRACT                        float64\n",
       "VOTING_PRECINCT                      object\n",
       "LATITUDE                            float64\n",
       "LONGITUDE                           float64\n",
       "BID                                  object\n",
       "START_DATE                           object\n",
       "END_DATE                             object\n",
       "OBJECTID                              int64\n",
       "OCTO_RECORD_ID                      float64\n",
       "is_theft                               bool\n",
       "is_theft_notmoter                      bool\n",
       "offense_summary                      object\n",
       "SHIFT_NEW                            object\n",
       "START_DATE_CLEAN        datetime64[ns, UTC]\n",
       "dtype: object"
      ]
     },
     "execution_count": 46,
     "metadata": {},
     "output_type": "execute_result"
    }
   ],
   "source": [
    "df.dtypes"
   ]
  },
  {
   "cell_type": "markdown",
   "metadata": {},
   "source": [
    "**Task:** print the min and max of `START_DATE_CLEAN`. What happens if you try to do this with `START_DATE`?"
   ]
  },
  {
   "cell_type": "code",
   "execution_count": 50,
   "metadata": {},
   "outputs": [
    {
     "data": {
      "text/plain": [
       "max   2021-01-01 02:30:21+00:00\n",
       "min   1940-02-17 00:00:16+00:00\n",
       "Name: START_DATE_CLEAN, dtype: datetime64[ns, UTC]"
      ]
     },
     "execution_count": 50,
     "metadata": {},
     "output_type": "execute_result"
    },
    {
     "data": {
      "text/plain": [
       "max    2021/01/01 02:30:21+00\n",
       "min    1940/02/17 00:00:16+00\n",
       "Name: START_DATE, dtype: object"
      ]
     },
     "execution_count": 50,
     "metadata": {},
     "output_type": "execute_result"
    }
   ],
   "source": [
    "df[\"START_DATE_CLEAN\"].agg([\"max\", \"min\"])\n",
    "df[\"START_DATE\"].agg([\"max\", \"min\"])"
   ]
  },
  {
   "cell_type": "code",
   "execution_count": null,
   "metadata": {},
   "outputs": [],
   "source": []
  },
  {
   "cell_type": "markdown",
   "metadata": {},
   "source": [
    "## 3. Row and column filtering "
   ]
  },
  {
   "cell_type": "markdown",
   "metadata": {},
   "source": [
    "### Row subsetting\n",
    "\n",
    "**Task**: filter to crime reports about theft using the `is_theft` definition and that are in ward 3"
   ]
  },
  {
   "cell_type": "code",
   "execution_count": 54,
   "metadata": {},
   "outputs": [
    {
     "data": {
      "text/html": [
       "<div>\n",
       "<style scoped>\n",
       "    .dataframe tbody tr th:only-of-type {\n",
       "        vertical-align: middle;\n",
       "    }\n",
       "\n",
       "    .dataframe tbody tr th {\n",
       "        vertical-align: top;\n",
       "    }\n",
       "\n",
       "    .dataframe thead th {\n",
       "        text-align: right;\n",
       "    }\n",
       "</style>\n",
       "<table border=\"1\" class=\"dataframe\">\n",
       "  <thead>\n",
       "    <tr style=\"text-align: right;\">\n",
       "      <th></th>\n",
       "      <th>X</th>\n",
       "      <th>Y</th>\n",
       "      <th>CCN</th>\n",
       "      <th>REPORT_DAT</th>\n",
       "      <th>SHIFT</th>\n",
       "      <th>METHOD</th>\n",
       "      <th>OFFENSE</th>\n",
       "      <th>BLOCK</th>\n",
       "      <th>XBLOCK</th>\n",
       "      <th>YBLOCK</th>\n",
       "      <th>...</th>\n",
       "      <th>START_DATE</th>\n",
       "      <th>END_DATE</th>\n",
       "      <th>OBJECTID</th>\n",
       "      <th>OCTO_RECORD_ID</th>\n",
       "      <th>is_theft</th>\n",
       "      <th>is_theft_notmoter</th>\n",
       "      <th>offense_summary</th>\n",
       "      <th>SHIFT_NEW</th>\n",
       "      <th>START_DATE_CLEAN</th>\n",
       "      <th>OFFENSE_NOSP</th>\n",
       "    </tr>\n",
       "  </thead>\n",
       "  <tbody>\n",
       "    <tr>\n",
       "      <th>24</th>\n",
       "      <td>394459.0</td>\n",
       "      <td>141888.0</td>\n",
       "      <td>20040285</td>\n",
       "      <td>2020/03/06 20:37:25+00</td>\n",
       "      <td>EVENING</td>\n",
       "      <td>OTHERS</td>\n",
       "      <td>THEFT/OTHER</td>\n",
       "      <td>4200 - 4399 BLOCK OF CONNECTICUT AVENUE NW</td>\n",
       "      <td>394459.0</td>\n",
       "      <td>141888.0</td>\n",
       "      <td>...</td>\n",
       "      <td>2020/03/06 19:24:37+00</td>\n",
       "      <td>NaN</td>\n",
       "      <td>802287574</td>\n",
       "      <td>NaN</td>\n",
       "      <td>True</td>\n",
       "      <td>True</td>\n",
       "      <td>non-violent</td>\n",
       "      <td>nighttime</td>\n",
       "      <td>2020-03-06 19:24:37+00:00</td>\n",
       "      <td>THEFT/OTHER</td>\n",
       "    </tr>\n",
       "    <tr>\n",
       "      <th>39</th>\n",
       "      <td>393663.0</td>\n",
       "      <td>143642.0</td>\n",
       "      <td>20181237</td>\n",
       "      <td>2020/12/23 05:32:20+00</td>\n",
       "      <td>MIDNIGHT</td>\n",
       "      <td>OTHERS</td>\n",
       "      <td>MOTOR VEHICLE THEFT</td>\n",
       "      <td>5320 - 5399 BLOCK OF CONNECTICUT AVENUE NW</td>\n",
       "      <td>393663.0</td>\n",
       "      <td>143642.0</td>\n",
       "      <td>...</td>\n",
       "      <td>2020/12/23 01:59:13+00</td>\n",
       "      <td>2020/12/23 04:00:19+00</td>\n",
       "      <td>802287589</td>\n",
       "      <td>NaN</td>\n",
       "      <td>True</td>\n",
       "      <td>False</td>\n",
       "      <td>non-violent</td>\n",
       "      <td>nighttime</td>\n",
       "      <td>2020-12-23 01:59:13+00:00</td>\n",
       "      <td>MOTOR_VEHICLE_THEFT</td>\n",
       "    </tr>\n",
       "    <tr>\n",
       "      <th>54</th>\n",
       "      <td>393620.0</td>\n",
       "      <td>142224.0</td>\n",
       "      <td>20157370</td>\n",
       "      <td>2020/11/03 20:06:29+00</td>\n",
       "      <td>EVENING</td>\n",
       "      <td>OTHERS</td>\n",
       "      <td>THEFT F/AUTO</td>\n",
       "      <td>3700 - 3799 BLOCK OF ALBEMARLE STREET NW</td>\n",
       "      <td>393620.0</td>\n",
       "      <td>142224.0</td>\n",
       "      <td>...</td>\n",
       "      <td>2020/10/28 14:00:47+00</td>\n",
       "      <td>2020/10/28 15:00:35+00</td>\n",
       "      <td>802287674</td>\n",
       "      <td>NaN</td>\n",
       "      <td>True</td>\n",
       "      <td>True</td>\n",
       "      <td>non-violent</td>\n",
       "      <td>nighttime</td>\n",
       "      <td>2020-10-28 14:00:47+00:00</td>\n",
       "      <td>THEFT_F/AUTO</td>\n",
       "    </tr>\n",
       "    <tr>\n",
       "      <th>57</th>\n",
       "      <td>395499.0</td>\n",
       "      <td>139592.0</td>\n",
       "      <td>20157882</td>\n",
       "      <td>2020/11/04 20:40:30+00</td>\n",
       "      <td>EVENING</td>\n",
       "      <td>OTHERS</td>\n",
       "      <td>THEFT/OTHER</td>\n",
       "      <td>2600 - 2649 BLOCK OF CONNECTICUT AVENUE NW</td>\n",
       "      <td>395499.0</td>\n",
       "      <td>139592.0</td>\n",
       "      <td>...</td>\n",
       "      <td>2020/11/04 16:40:39+00</td>\n",
       "      <td>2020/11/04 16:50:48+00</td>\n",
       "      <td>802287677</td>\n",
       "      <td>NaN</td>\n",
       "      <td>True</td>\n",
       "      <td>True</td>\n",
       "      <td>non-violent</td>\n",
       "      <td>nighttime</td>\n",
       "      <td>2020-11-04 16:40:39+00:00</td>\n",
       "      <td>THEFT/OTHER</td>\n",
       "    </tr>\n",
       "    <tr>\n",
       "      <th>66</th>\n",
       "      <td>394459.0</td>\n",
       "      <td>141888.0</td>\n",
       "      <td>20160456</td>\n",
       "      <td>2020/11/09 20:00:36+00</td>\n",
       "      <td>DAY</td>\n",
       "      <td>OTHERS</td>\n",
       "      <td>THEFT/OTHER</td>\n",
       "      <td>4200 - 4399 BLOCK OF CONNECTICUT AVENUE NW</td>\n",
       "      <td>394459.0</td>\n",
       "      <td>141888.0</td>\n",
       "      <td>...</td>\n",
       "      <td>2020/09/28 21:25:53+00</td>\n",
       "      <td>2020/09/28 21:35:05+00</td>\n",
       "      <td>802287686</td>\n",
       "      <td>NaN</td>\n",
       "      <td>True</td>\n",
       "      <td>True</td>\n",
       "      <td>non-violent</td>\n",
       "      <td>daytime</td>\n",
       "      <td>2020-09-28 21:25:53+00:00</td>\n",
       "      <td>THEFT/OTHER</td>\n",
       "    </tr>\n",
       "    <tr>\n",
       "      <th>...</th>\n",
       "      <td>...</td>\n",
       "      <td>...</td>\n",
       "      <td>...</td>\n",
       "      <td>...</td>\n",
       "      <td>...</td>\n",
       "      <td>...</td>\n",
       "      <td>...</td>\n",
       "      <td>...</td>\n",
       "      <td>...</td>\n",
       "      <td>...</td>\n",
       "      <td>...</td>\n",
       "      <td>...</td>\n",
       "      <td>...</td>\n",
       "      <td>...</td>\n",
       "      <td>...</td>\n",
       "      <td>...</td>\n",
       "      <td>...</td>\n",
       "      <td>...</td>\n",
       "      <td>...</td>\n",
       "      <td>...</td>\n",
       "      <td>...</td>\n",
       "    </tr>\n",
       "    <tr>\n",
       "      <th>27787</th>\n",
       "      <td>394949.0</td>\n",
       "      <td>140320.0</td>\n",
       "      <td>20121975</td>\n",
       "      <td>2020/08/26 20:56:00+00</td>\n",
       "      <td>EVENING</td>\n",
       "      <td>OTHERS</td>\n",
       "      <td>MOTOR VEHICLE THEFT</td>\n",
       "      <td>2731 - 2899 BLOCK OF DEVONSHIRE PLACE NW</td>\n",
       "      <td>394949.0</td>\n",
       "      <td>140320.0</td>\n",
       "      <td>...</td>\n",
       "      <td>2020/08/25 23:00:13+00</td>\n",
       "      <td>2020/08/26 19:00:07+00</td>\n",
       "      <td>802840376</td>\n",
       "      <td>NaN</td>\n",
       "      <td>True</td>\n",
       "      <td>False</td>\n",
       "      <td>non-violent</td>\n",
       "      <td>nighttime</td>\n",
       "      <td>2020-08-25 23:00:13+00:00</td>\n",
       "      <td>MOTOR_VEHICLE_THEFT</td>\n",
       "    </tr>\n",
       "    <tr>\n",
       "      <th>27821</th>\n",
       "      <td>392607.0</td>\n",
       "      <td>143559.0</td>\n",
       "      <td>20044116</td>\n",
       "      <td>2020/03/12 23:53:15+00</td>\n",
       "      <td>EVENING</td>\n",
       "      <td>OTHERS</td>\n",
       "      <td>THEFT/OTHER</td>\n",
       "      <td>5300 - 5399 BLOCK OF WISCONSIN AVENUE NW</td>\n",
       "      <td>392607.0</td>\n",
       "      <td>143559.0</td>\n",
       "      <td>...</td>\n",
       "      <td>2020/03/12 17:25:58+00</td>\n",
       "      <td>2020/03/12 17:49:32+00</td>\n",
       "      <td>802840858</td>\n",
       "      <td>NaN</td>\n",
       "      <td>True</td>\n",
       "      <td>True</td>\n",
       "      <td>non-violent</td>\n",
       "      <td>nighttime</td>\n",
       "      <td>2020-03-12 17:25:58+00:00</td>\n",
       "      <td>THEFT/OTHER</td>\n",
       "    </tr>\n",
       "    <tr>\n",
       "      <th>27883</th>\n",
       "      <td>394432.0</td>\n",
       "      <td>140127.0</td>\n",
       "      <td>20142286</td>\n",
       "      <td>2020/10/05 17:57:20+00</td>\n",
       "      <td>DAY</td>\n",
       "      <td>OTHERS</td>\n",
       "      <td>THEFT F/AUTO</td>\n",
       "      <td>3200 - 3299 BLOCK OF CATHEDRAL AVENUE NW</td>\n",
       "      <td>394432.0</td>\n",
       "      <td>140127.0</td>\n",
       "      <td>...</td>\n",
       "      <td>2020/10/05 15:32:07+00</td>\n",
       "      <td>2020/10/05 17:35:33+00</td>\n",
       "      <td>802841823</td>\n",
       "      <td>NaN</td>\n",
       "      <td>True</td>\n",
       "      <td>True</td>\n",
       "      <td>non-violent</td>\n",
       "      <td>daytime</td>\n",
       "      <td>2020-10-05 15:32:07+00:00</td>\n",
       "      <td>THEFT_F/AUTO</td>\n",
       "    </tr>\n",
       "    <tr>\n",
       "      <th>27908</th>\n",
       "      <td>392145.0</td>\n",
       "      <td>142634.0</td>\n",
       "      <td>20400777</td>\n",
       "      <td>2020/06/15 14:54:59+00</td>\n",
       "      <td>DAY</td>\n",
       "      <td>OTHERS</td>\n",
       "      <td>THEFT F/AUTO</td>\n",
       "      <td>4700 - 4799 BLOCK OF 46TH STREET NW</td>\n",
       "      <td>392145.0</td>\n",
       "      <td>142634.0</td>\n",
       "      <td>...</td>\n",
       "      <td>2020/06/15 00:00:00+00</td>\n",
       "      <td>2020/06/15 14:00:00+00</td>\n",
       "      <td>802842159</td>\n",
       "      <td>NaN</td>\n",
       "      <td>True</td>\n",
       "      <td>True</td>\n",
       "      <td>non-violent</td>\n",
       "      <td>daytime</td>\n",
       "      <td>2020-06-15 00:00:00+00:00</td>\n",
       "      <td>THEFT_F/AUTO</td>\n",
       "    </tr>\n",
       "    <tr>\n",
       "      <th>27924</th>\n",
       "      <td>393039.0</td>\n",
       "      <td>142375.0</td>\n",
       "      <td>20007918</td>\n",
       "      <td>2020/01/14 05:01:27+00</td>\n",
       "      <td>MIDNIGHT</td>\n",
       "      <td>OTHERS</td>\n",
       "      <td>THEFT/OTHER</td>\n",
       "      <td>4530 - 4599 BLOCK OF WISCONSIN AVENUE NW</td>\n",
       "      <td>393039.0</td>\n",
       "      <td>142375.0</td>\n",
       "      <td>...</td>\n",
       "      <td>2020/01/14 02:41:22+00</td>\n",
       "      <td>2020/01/14 02:45:43+00</td>\n",
       "      <td>802842232</td>\n",
       "      <td>NaN</td>\n",
       "      <td>True</td>\n",
       "      <td>True</td>\n",
       "      <td>non-violent</td>\n",
       "      <td>nighttime</td>\n",
       "      <td>2020-01-14 02:41:22+00:00</td>\n",
       "      <td>THEFT/OTHER</td>\n",
       "    </tr>\n",
       "  </tbody>\n",
       "</table>\n",
       "<p>1522 rows × 31 columns</p>\n",
       "</div>"
      ],
      "text/plain": [
       "              X         Y       CCN              REPORT_DAT     SHIFT  METHOD  \\\n",
       "24     394459.0  141888.0  20040285  2020/03/06 20:37:25+00   EVENING  OTHERS   \n",
       "39     393663.0  143642.0  20181237  2020/12/23 05:32:20+00  MIDNIGHT  OTHERS   \n",
       "54     393620.0  142224.0  20157370  2020/11/03 20:06:29+00   EVENING  OTHERS   \n",
       "57     395499.0  139592.0  20157882  2020/11/04 20:40:30+00   EVENING  OTHERS   \n",
       "66     394459.0  141888.0  20160456  2020/11/09 20:00:36+00       DAY  OTHERS   \n",
       "...         ...       ...       ...                     ...       ...     ...   \n",
       "27787  394949.0  140320.0  20121975  2020/08/26 20:56:00+00   EVENING  OTHERS   \n",
       "27821  392607.0  143559.0  20044116  2020/03/12 23:53:15+00   EVENING  OTHERS   \n",
       "27883  394432.0  140127.0  20142286  2020/10/05 17:57:20+00       DAY  OTHERS   \n",
       "27908  392145.0  142634.0  20400777  2020/06/15 14:54:59+00       DAY  OTHERS   \n",
       "27924  393039.0  142375.0  20007918  2020/01/14 05:01:27+00  MIDNIGHT  OTHERS   \n",
       "\n",
       "                   OFFENSE                                       BLOCK  \\\n",
       "24             THEFT/OTHER  4200 - 4399 BLOCK OF CONNECTICUT AVENUE NW   \n",
       "39     MOTOR VEHICLE THEFT  5320 - 5399 BLOCK OF CONNECTICUT AVENUE NW   \n",
       "54            THEFT F/AUTO    3700 - 3799 BLOCK OF ALBEMARLE STREET NW   \n",
       "57             THEFT/OTHER  2600 - 2649 BLOCK OF CONNECTICUT AVENUE NW   \n",
       "66             THEFT/OTHER  4200 - 4399 BLOCK OF CONNECTICUT AVENUE NW   \n",
       "...                    ...                                         ...   \n",
       "27787  MOTOR VEHICLE THEFT    2731 - 2899 BLOCK OF DEVONSHIRE PLACE NW   \n",
       "27821          THEFT/OTHER    5300 - 5399 BLOCK OF WISCONSIN AVENUE NW   \n",
       "27883         THEFT F/AUTO    3200 - 3299 BLOCK OF CATHEDRAL AVENUE NW   \n",
       "27908         THEFT F/AUTO         4700 - 4799 BLOCK OF 46TH STREET NW   \n",
       "27924          THEFT/OTHER    4530 - 4599 BLOCK OF WISCONSIN AVENUE NW   \n",
       "\n",
       "         XBLOCK    YBLOCK  ...              START_DATE  \\\n",
       "24     394459.0  141888.0  ...  2020/03/06 19:24:37+00   \n",
       "39     393663.0  143642.0  ...  2020/12/23 01:59:13+00   \n",
       "54     393620.0  142224.0  ...  2020/10/28 14:00:47+00   \n",
       "57     395499.0  139592.0  ...  2020/11/04 16:40:39+00   \n",
       "66     394459.0  141888.0  ...  2020/09/28 21:25:53+00   \n",
       "...         ...       ...  ...                     ...   \n",
       "27787  394949.0  140320.0  ...  2020/08/25 23:00:13+00   \n",
       "27821  392607.0  143559.0  ...  2020/03/12 17:25:58+00   \n",
       "27883  394432.0  140127.0  ...  2020/10/05 15:32:07+00   \n",
       "27908  392145.0  142634.0  ...  2020/06/15 00:00:00+00   \n",
       "27924  393039.0  142375.0  ...  2020/01/14 02:41:22+00   \n",
       "\n",
       "                     END_DATE   OBJECTID  OCTO_RECORD_ID is_theft  \\\n",
       "24                        NaN  802287574             NaN     True   \n",
       "39     2020/12/23 04:00:19+00  802287589             NaN     True   \n",
       "54     2020/10/28 15:00:35+00  802287674             NaN     True   \n",
       "57     2020/11/04 16:50:48+00  802287677             NaN     True   \n",
       "66     2020/09/28 21:35:05+00  802287686             NaN     True   \n",
       "...                       ...        ...             ...      ...   \n",
       "27787  2020/08/26 19:00:07+00  802840376             NaN     True   \n",
       "27821  2020/03/12 17:49:32+00  802840858             NaN     True   \n",
       "27883  2020/10/05 17:35:33+00  802841823             NaN     True   \n",
       "27908  2020/06/15 14:00:00+00  802842159             NaN     True   \n",
       "27924  2020/01/14 02:45:43+00  802842232             NaN     True   \n",
       "\n",
       "      is_theft_notmoter  offense_summary  SHIFT_NEW          START_DATE_CLEAN  \\\n",
       "24                 True      non-violent  nighttime 2020-03-06 19:24:37+00:00   \n",
       "39                False      non-violent  nighttime 2020-12-23 01:59:13+00:00   \n",
       "54                 True      non-violent  nighttime 2020-10-28 14:00:47+00:00   \n",
       "57                 True      non-violent  nighttime 2020-11-04 16:40:39+00:00   \n",
       "66                 True      non-violent    daytime 2020-09-28 21:25:53+00:00   \n",
       "...                 ...              ...        ...                       ...   \n",
       "27787             False      non-violent  nighttime 2020-08-25 23:00:13+00:00   \n",
       "27821              True      non-violent  nighttime 2020-03-12 17:25:58+00:00   \n",
       "27883              True      non-violent    daytime 2020-10-05 15:32:07+00:00   \n",
       "27908              True      non-violent    daytime 2020-06-15 00:00:00+00:00   \n",
       "27924              True      non-violent  nighttime 2020-01-14 02:41:22+00:00   \n",
       "\n",
       "              OFFENSE_NOSP  \n",
       "24             THEFT/OTHER  \n",
       "39     MOTOR_VEHICLE_THEFT  \n",
       "54            THEFT_F/AUTO  \n",
       "57             THEFT/OTHER  \n",
       "66             THEFT/OTHER  \n",
       "...                    ...  \n",
       "27787  MOTOR_VEHICLE_THEFT  \n",
       "27821          THEFT/OTHER  \n",
       "27883         THEFT_F/AUTO  \n",
       "27908         THEFT_F/AUTO  \n",
       "27924          THEFT/OTHER  \n",
       "\n",
       "[1522 rows x 31 columns]"
      ]
     },
     "execution_count": 54,
     "metadata": {},
     "output_type": "execute_result"
    }
   ],
   "source": [
    "df[(df[\"is_theft\"]) & (df[\"WARD\"] == 3)]"
   ]
  },
  {
   "cell_type": "markdown",
   "metadata": {},
   "source": [
    "### Column subsetting\n"
   ]
  },
  {
   "cell_type": "markdown",
   "metadata": {},
   "source": [
    "**Task**: select two columns--`START_DATE` and `END_DATE`--and print the head of the dataframe"
   ]
  },
  {
   "cell_type": "code",
   "execution_count": 55,
   "metadata": {
    "scrolled": true
   },
   "outputs": [
    {
     "data": {
      "text/html": [
       "<div>\n",
       "<style scoped>\n",
       "    .dataframe tbody tr th:only-of-type {\n",
       "        vertical-align: middle;\n",
       "    }\n",
       "\n",
       "    .dataframe tbody tr th {\n",
       "        vertical-align: top;\n",
       "    }\n",
       "\n",
       "    .dataframe thead th {\n",
       "        text-align: right;\n",
       "    }\n",
       "</style>\n",
       "<table border=\"1\" class=\"dataframe\">\n",
       "  <thead>\n",
       "    <tr style=\"text-align: right;\">\n",
       "      <th></th>\n",
       "      <th>START_DATE</th>\n",
       "      <th>END_DATE</th>\n",
       "    </tr>\n",
       "  </thead>\n",
       "  <tbody>\n",
       "    <tr>\n",
       "      <th>0</th>\n",
       "      <td>2010/10/10 02:00:00+00</td>\n",
       "      <td>NaN</td>\n",
       "    </tr>\n",
       "    <tr>\n",
       "      <th>1</th>\n",
       "      <td>2020/01/28 05:14:58+00</td>\n",
       "      <td>2020/01/28 05:15:02+00</td>\n",
       "    </tr>\n",
       "    <tr>\n",
       "      <th>2</th>\n",
       "      <td>2018/03/26 08:40:06+00</td>\n",
       "      <td>2018/03/26 10:04:44+00</td>\n",
       "    </tr>\n",
       "    <tr>\n",
       "      <th>3</th>\n",
       "      <td>2020/08/07 09:40:16+00</td>\n",
       "      <td>2020/08/21 10:00:05+00</td>\n",
       "    </tr>\n",
       "    <tr>\n",
       "      <th>4</th>\n",
       "      <td>2020/08/23 06:00:25+00</td>\n",
       "      <td>2020/08/23 06:43:53+00</td>\n",
       "    </tr>\n",
       "  </tbody>\n",
       "</table>\n",
       "</div>"
      ],
      "text/plain": [
       "               START_DATE                END_DATE\n",
       "0  2010/10/10 02:00:00+00                     NaN\n",
       "1  2020/01/28 05:14:58+00  2020/01/28 05:15:02+00\n",
       "2  2018/03/26 08:40:06+00  2018/03/26 10:04:44+00\n",
       "3  2020/08/07 09:40:16+00  2020/08/21 10:00:05+00\n",
       "4  2020/08/23 06:00:25+00  2020/08/23 06:43:53+00"
      ]
     },
     "execution_count": 55,
     "metadata": {},
     "output_type": "execute_result"
    }
   ],
   "source": [
    "df[[\"START_DATE\", \"END_DATE\"]].head()"
   ]
  },
  {
   "cell_type": "markdown",
   "metadata": {},
   "source": [
    "**Task**: use list comprehension to automate this a bit and select all columns with the word \"DATE\" in the name; print the head of the dataframe"
   ]
  },
  {
   "cell_type": "code",
   "execution_count": 57,
   "metadata": {},
   "outputs": [
    {
     "data": {
      "text/plain": [
       "Index(['X', 'Y', 'CCN', 'REPORT_DAT', 'SHIFT', 'METHOD', 'OFFENSE', 'BLOCK',\n",
       "       'XBLOCK', 'YBLOCK', 'WARD', 'ANC', 'DISTRICT', 'PSA',\n",
       "       'NEIGHBORHOOD_CLUSTER', 'BLOCK_GROUP', 'CENSUS_TRACT',\n",
       "       'VOTING_PRECINCT', 'LATITUDE', 'LONGITUDE', 'BID', 'START_DATE',\n",
       "       'END_DATE', 'OBJECTID', 'OCTO_RECORD_ID', 'is_theft',\n",
       "       'is_theft_notmoter', 'offense_summary', 'SHIFT_NEW', 'START_DATE_CLEAN',\n",
       "       'OFFENSE_NOSP'],\n",
       "      dtype='object')"
      ]
     },
     "execution_count": 57,
     "metadata": {},
     "output_type": "execute_result"
    }
   ],
   "source": [
    "df.columns"
   ]
  },
  {
   "cell_type": "code",
   "execution_count": 58,
   "metadata": {},
   "outputs": [
    {
     "data": {
      "text/plain": [
       "['START_DATE', 'END_DATE', 'START_DATE_CLEAN']"
      ]
     },
     "execution_count": 58,
     "metadata": {},
     "output_type": "execute_result"
    }
   ],
   "source": [
    "cols_to_pick = [x for x in df.columns if \"DATE\" in x]\n",
    "cols_to_pick"
   ]
  },
  {
   "cell_type": "code",
   "execution_count": 59,
   "metadata": {},
   "outputs": [
    {
     "data": {
      "text/html": [
       "<div>\n",
       "<style scoped>\n",
       "    .dataframe tbody tr th:only-of-type {\n",
       "        vertical-align: middle;\n",
       "    }\n",
       "\n",
       "    .dataframe tbody tr th {\n",
       "        vertical-align: top;\n",
       "    }\n",
       "\n",
       "    .dataframe thead th {\n",
       "        text-align: right;\n",
       "    }\n",
       "</style>\n",
       "<table border=\"1\" class=\"dataframe\">\n",
       "  <thead>\n",
       "    <tr style=\"text-align: right;\">\n",
       "      <th></th>\n",
       "      <th>START_DATE</th>\n",
       "      <th>END_DATE</th>\n",
       "      <th>START_DATE_CLEAN</th>\n",
       "    </tr>\n",
       "  </thead>\n",
       "  <tbody>\n",
       "    <tr>\n",
       "      <th>0</th>\n",
       "      <td>2010/10/10 02:00:00+00</td>\n",
       "      <td>NaN</td>\n",
       "      <td>2010-10-10 02:00:00+00:00</td>\n",
       "    </tr>\n",
       "    <tr>\n",
       "      <th>1</th>\n",
       "      <td>2020/01/28 05:14:58+00</td>\n",
       "      <td>2020/01/28 05:15:02+00</td>\n",
       "      <td>2020-01-28 05:14:58+00:00</td>\n",
       "    </tr>\n",
       "    <tr>\n",
       "      <th>2</th>\n",
       "      <td>2018/03/26 08:40:06+00</td>\n",
       "      <td>2018/03/26 10:04:44+00</td>\n",
       "      <td>2018-03-26 08:40:06+00:00</td>\n",
       "    </tr>\n",
       "    <tr>\n",
       "      <th>3</th>\n",
       "      <td>2020/08/07 09:40:16+00</td>\n",
       "      <td>2020/08/21 10:00:05+00</td>\n",
       "      <td>2020-08-07 09:40:16+00:00</td>\n",
       "    </tr>\n",
       "    <tr>\n",
       "      <th>4</th>\n",
       "      <td>2020/08/23 06:00:25+00</td>\n",
       "      <td>2020/08/23 06:43:53+00</td>\n",
       "      <td>2020-08-23 06:00:25+00:00</td>\n",
       "    </tr>\n",
       "    <tr>\n",
       "      <th>...</th>\n",
       "      <td>...</td>\n",
       "      <td>...</td>\n",
       "      <td>...</td>\n",
       "    </tr>\n",
       "    <tr>\n",
       "      <th>27926</th>\n",
       "      <td>2020/07/27 15:30:04+00</td>\n",
       "      <td>2020/07/28 21:00:08+00</td>\n",
       "      <td>2020-07-27 15:30:04+00:00</td>\n",
       "    </tr>\n",
       "    <tr>\n",
       "      <th>27927</th>\n",
       "      <td>2020/12/15 22:53:00+00</td>\n",
       "      <td>2020/12/15 23:10:00+00</td>\n",
       "      <td>2020-12-15 22:53:00+00:00</td>\n",
       "    </tr>\n",
       "    <tr>\n",
       "      <th>27928</th>\n",
       "      <td>2020/12/05 23:56:23+00</td>\n",
       "      <td>2020/12/06 00:35:42+00</td>\n",
       "      <td>2020-12-05 23:56:23+00:00</td>\n",
       "    </tr>\n",
       "    <tr>\n",
       "      <th>27929</th>\n",
       "      <td>2020/12/07 12:51:20+00</td>\n",
       "      <td>2020/12/07 14:12:14+00</td>\n",
       "      <td>2020-12-07 12:51:20+00:00</td>\n",
       "    </tr>\n",
       "    <tr>\n",
       "      <th>27930</th>\n",
       "      <td>2020/12/07 17:07:15+00</td>\n",
       "      <td>2020/12/07 17:08:55+00</td>\n",
       "      <td>2020-12-07 17:07:15+00:00</td>\n",
       "    </tr>\n",
       "  </tbody>\n",
       "</table>\n",
       "<p>27931 rows × 3 columns</p>\n",
       "</div>"
      ],
      "text/plain": [
       "                   START_DATE                END_DATE  \\\n",
       "0      2010/10/10 02:00:00+00                     NaN   \n",
       "1      2020/01/28 05:14:58+00  2020/01/28 05:15:02+00   \n",
       "2      2018/03/26 08:40:06+00  2018/03/26 10:04:44+00   \n",
       "3      2020/08/07 09:40:16+00  2020/08/21 10:00:05+00   \n",
       "4      2020/08/23 06:00:25+00  2020/08/23 06:43:53+00   \n",
       "...                       ...                     ...   \n",
       "27926  2020/07/27 15:30:04+00  2020/07/28 21:00:08+00   \n",
       "27927  2020/12/15 22:53:00+00  2020/12/15 23:10:00+00   \n",
       "27928  2020/12/05 23:56:23+00  2020/12/06 00:35:42+00   \n",
       "27929  2020/12/07 12:51:20+00  2020/12/07 14:12:14+00   \n",
       "27930  2020/12/07 17:07:15+00  2020/12/07 17:08:55+00   \n",
       "\n",
       "               START_DATE_CLEAN  \n",
       "0     2010-10-10 02:00:00+00:00  \n",
       "1     2020-01-28 05:14:58+00:00  \n",
       "2     2018-03-26 08:40:06+00:00  \n",
       "3     2020-08-07 09:40:16+00:00  \n",
       "4     2020-08-23 06:00:25+00:00  \n",
       "...                         ...  \n",
       "27926 2020-07-27 15:30:04+00:00  \n",
       "27927 2020-12-15 22:53:00+00:00  \n",
       "27928 2020-12-05 23:56:23+00:00  \n",
       "27929 2020-12-07 12:51:20+00:00  \n",
       "27930 2020-12-07 17:07:15+00:00  \n",
       "\n",
       "[27931 rows x 3 columns]"
      ]
     },
     "execution_count": 59,
     "metadata": {},
     "output_type": "execute_result"
    }
   ],
   "source": [
    "df[cols_to_pick]"
   ]
  },
  {
   "cell_type": "markdown",
   "metadata": {},
   "source": [
    "**Task**: filter reports of crime in `START_DATE_CLEAN` before May 2020 and that are located in ward 1; select the ward and `START_DATE` column and print a random sample of rows"
   ]
  },
  {
   "cell_type": "code",
   "execution_count": null,
   "metadata": {},
   "outputs": [
    {
     "data": {
      "text/html": [
       "<div>\n",
       "<style scoped>\n",
       "    .dataframe tbody tr th:only-of-type {\n",
       "        vertical-align: middle;\n",
       "    }\n",
       "\n",
       "    .dataframe tbody tr th {\n",
       "        vertical-align: top;\n",
       "    }\n",
       "\n",
       "    .dataframe thead th {\n",
       "        text-align: right;\n",
       "    }\n",
       "</style>\n",
       "<table border=\"1\" class=\"dataframe\">\n",
       "  <thead>\n",
       "    <tr style=\"text-align: right;\">\n",
       "      <th></th>\n",
       "      <th>WARD</th>\n",
       "      <th>START_DATE</th>\n",
       "    </tr>\n",
       "  </thead>\n",
       "  <tbody>\n",
       "    <tr>\n",
       "      <th>16662</th>\n",
       "      <td>1</td>\n",
       "      <td>2020/01/01 08:45:28+00</td>\n",
       "    </tr>\n",
       "    <tr>\n",
       "      <th>12924</th>\n",
       "      <td>1</td>\n",
       "      <td>2020/03/21 18:00:18+00</td>\n",
       "    </tr>\n",
       "    <tr>\n",
       "      <th>12161</th>\n",
       "      <td>1</td>\n",
       "      <td>2020/02/06 04:30:24+00</td>\n",
       "    </tr>\n",
       "  </tbody>\n",
       "</table>\n",
       "</div>"
      ],
      "text/plain": [
       "       WARD              START_DATE\n",
       "16662     1  2020/01/01 08:45:28+00\n",
       "12924     1  2020/03/21 18:00:18+00\n",
       "12161     1  2020/02/06 04:30:24+00"
      ]
     },
     "execution_count": 80,
     "metadata": {},
     "output_type": "execute_result"
    }
   ],
   "source": [
    "# fix random seed by setting random_state\n",
    "df[\n",
    "    (\n",
    "        (df[\"START_DATE_CLEAN\"] < \"2020-05-01\") & \n",
    "        (df[\"WARD\"] == 1)\n",
    "    )\n",
    "][[\"WARD\", \"START_DATE\"]].sample(n=3, random_state=123)"
   ]
  },
  {
   "cell_type": "code",
   "execution_count": null,
   "metadata": {},
   "outputs": [
    {
     "data": {
      "text/html": [
       "<div>\n",
       "<style scoped>\n",
       "    .dataframe tbody tr th:only-of-type {\n",
       "        vertical-align: middle;\n",
       "    }\n",
       "\n",
       "    .dataframe tbody tr th {\n",
       "        vertical-align: top;\n",
       "    }\n",
       "\n",
       "    .dataframe thead th {\n",
       "        text-align: right;\n",
       "    }\n",
       "</style>\n",
       "<table border=\"1\" class=\"dataframe\">\n",
       "  <thead>\n",
       "    <tr style=\"text-align: right;\">\n",
       "      <th></th>\n",
       "      <th>WARD</th>\n",
       "      <th>START_DATE</th>\n",
       "    </tr>\n",
       "  </thead>\n",
       "  <tbody>\n",
       "    <tr>\n",
       "      <th>16662</th>\n",
       "      <td>1</td>\n",
       "      <td>2020/01/01 08:45:28+00</td>\n",
       "    </tr>\n",
       "    <tr>\n",
       "      <th>12924</th>\n",
       "      <td>1</td>\n",
       "      <td>2020/03/21 18:00:18+00</td>\n",
       "    </tr>\n",
       "    <tr>\n",
       "      <th>12161</th>\n",
       "      <td>1</td>\n",
       "      <td>2020/02/06 04:30:24+00</td>\n",
       "    </tr>\n",
       "  </tbody>\n",
       "</table>\n",
       "</div>"
      ],
      "text/plain": [
       "       WARD              START_DATE\n",
       "16662     1  2020/01/01 08:45:28+00\n",
       "12924     1  2020/03/21 18:00:18+00\n",
       "12161     1  2020/02/06 04:30:24+00"
      ]
     },
     "execution_count": 78,
     "metadata": {},
     "output_type": "execute_result"
    }
   ],
   "source": [
    "# fix random seed by setting random_state\n",
    "df.loc[\n",
    "    (\n",
    "        (df[\"START_DATE_CLEAN\"] < \"2020-05-01\") & \n",
    "        (df[\"WARD\"] == 1)\n",
    "    ), \n",
    "    [\"WARD\", \"START_DATE\"]\n",
    "].sample(n=3, random_state=123)"
   ]
  },
  {
   "cell_type": "code",
   "execution_count": 81,
   "metadata": {},
   "outputs": [
    {
     "data": {
      "text/html": [
       "<div>\n",
       "<style scoped>\n",
       "    .dataframe tbody tr th:only-of-type {\n",
       "        vertical-align: middle;\n",
       "    }\n",
       "\n",
       "    .dataframe tbody tr th {\n",
       "        vertical-align: top;\n",
       "    }\n",
       "\n",
       "    .dataframe thead th {\n",
       "        text-align: right;\n",
       "    }\n",
       "</style>\n",
       "<table border=\"1\" class=\"dataframe\">\n",
       "  <thead>\n",
       "    <tr style=\"text-align: right;\">\n",
       "      <th></th>\n",
       "      <th>WARD</th>\n",
       "      <th>START_DATE</th>\n",
       "    </tr>\n",
       "  </thead>\n",
       "  <tbody>\n",
       "    <tr>\n",
       "      <th>16662</th>\n",
       "      <td>1</td>\n",
       "      <td>2020/01/01 08:45:28+00</td>\n",
       "    </tr>\n",
       "    <tr>\n",
       "      <th>12924</th>\n",
       "      <td>1</td>\n",
       "      <td>2020/03/21 18:00:18+00</td>\n",
       "    </tr>\n",
       "    <tr>\n",
       "      <th>12161</th>\n",
       "      <td>1</td>\n",
       "      <td>2020/02/06 04:30:24+00</td>\n",
       "    </tr>\n",
       "  </tbody>\n",
       "</table>\n",
       "</div>"
      ],
      "text/plain": [
       "       WARD              START_DATE\n",
       "16662     1  2020/01/01 08:45:28+00\n",
       "12924     1  2020/03/21 18:00:18+00\n",
       "12161     1  2020/02/06 04:30:24+00"
      ]
     },
     "execution_count": 81,
     "metadata": {},
     "output_type": "execute_result"
    }
   ],
   "source": [
    "df[[\"WARD\", \"START_DATE\"]][\n",
    "    (\n",
    "        (df[\"START_DATE_CLEAN\"] < \"2020-05-01\") & \n",
    "        (df[\"WARD\"] == 1)\n",
    "    )\n",
    "].sample(n=3, random_state=123)"
   ]
  }
 ],
 "metadata": {
  "kernelspec": {
   "display_name": "qss20",
   "language": "python",
   "name": "python3"
  },
  "language_info": {
   "codemirror_mode": {
    "name": "ipython",
    "version": 3
   },
   "file_extension": ".py",
   "mimetype": "text/x-python",
   "name": "python",
   "nbconvert_exporter": "python",
   "pygments_lexer": "ipython3",
   "version": "3.12.11"
  }
 },
 "nbformat": 4,
 "nbformat_minor": 4
}
